{
 "cells": [
  {
   "cell_type": "markdown",
   "id": "68ffd084-5151-4be2-a164-2bfa4255ca00",
   "metadata": {},
   "source": [
    "# 📈Exercise 1 | Credit Risk"
   ]
  },
  {
   "cell_type": "markdown",
   "id": "a2841fff-8788-477b-927d-2c55ee330ad1",
   "metadata": {},
   "source": [
    "A bank has in its portfolio a loan originated on December 31, 2018, for an amount of $1000. The interest rate is 8% per year. Payments are annual and level during the next 4Y."
   ]
  },
  {
   "cell_type": "markdown",
   "id": "ce8ab97c-00c2-44e6-b244-3b492d6efcdd",
   "metadata": {},
   "source": [
    "## 1) Calculate the amount of the annual payment and the credit amortization table."
   ]
  },
  {
   "cell_type": "code",
   "execution_count": null,
   "id": "48c4c6cc-c7da-499f-a338-3a78a434497d",
   "metadata": {},
   "outputs": [],
   "source": [
    "%let basedate=01JAN2022;\n",
    "%let dp=;\n",
    "%put &=basedate;\n",
    "\n",
    "proc loan start=\"31DEC2018\"d;\n",
    "\tfixed amount= rate= life= schedule interval= out=work.schedule;\n",
    "run;"
   ]
  },
  {
   "cell_type": "code",
   "execution_count": null,
   "id": "2501ff19-8f5e-461d-811c-3a97eccf2af3",
   "metadata": {},
   "outputs": [],
   "source": [
    "proc print data=work.schedule;\n",
    "run;"
   ]
  },
  {
   "cell_type": "markdown",
   "id": "f93bb8f9-71e4-4ab2-91a2-3d6abd891a6e",
   "metadata": {},
   "source": [
    "## 2) Calculate the expected loss as of January 1, 2022"
   ]
  },
  {
   "cell_type": "markdown",
   "id": "5fa7590d-0ab8-4751-b0fd-a5aba3c85a17",
   "metadata": {},
   "source": [
    "... , considering that the payment pending settlement as of December 31, 2021, has already been made, the annual probability of default is 0.00022, and that there are no guarantees or collateral to mitigate the loss if the default materializes."
   ]
  },
  {
   "cell_type": "code",
   "execution_count": null,
   "id": "ad6f076b-79ba-4378-8538-d90feb547e85",
   "metadata": {},
   "outputs": [],
   "source": [
    "title \"Pérdida esperada\";\n",
    "proc sql;\n",
    "\tselect endprin*&dp.\n",
    "\tfrom work.schedule\n",
    "\twhere year <\"&basedate.\"d\n",
    "\thaving max(year)=year\n",
    "\t;\n",
    "quit;\n",
    "title;"
   ]
  },
  {
   "cell_type": "code",
   "execution_count": null,
   "id": "7e89e321-a9ab-4b28-a84f-6ce69f68aa11",
   "metadata": {},
   "outputs": [],
   "source": [
    "ods graphics / reset width=6.4in height=4.8in imagemap noborder;\n",
    "\n",
    "proc sort data=WORK.SCHEDULE(where=(year>\"01JAN2018\"d)) out=_SeriesPlotTaskData;\n",
    "\tby YEAR;\n",
    "run;\n",
    "\n",
    "title \"Amortización del Crédito\";\n",
    "proc sgplot data=_SeriesPlotTaskData;\n",
    "\tneedle x=YEAR y=BEGPRIN /;\n",
    "\tneedle x=YEAR y=ENDPRIN /;\n",
    "\txaxis grid;\n",
    "\tyaxis grid label=\"Monto\";\n",
    "run;\n",
    "\n",
    "proc sgplot data=_SeriesPlotTaskData;\n",
    "\tneedle x=YEAR y=PAYMENT /;\n",
    "\tneedle x=YEAR y=INTEREST /;\n",
    "\txaxis grid;\n",
    "\tyaxis grid label=\"Monto\";\n",
    "run;\n",
    "title;\n",
    "\n",
    "ods graphics / reset;\n",
    "\n",
    "proc datasets library=WORK noprint;\n",
    "\tdelete _SeriesPlotTaskData;\n",
    "run;"
   ]
  },
  {
   "cell_type": "code",
   "execution_count": null,
   "id": "e2db0087-66d5-440f-b669-84a1419c1987",
   "metadata": {},
   "outputs": [],
   "source": []
  }
 ],
 "metadata": {
  "kernelspec": {
   "display_name": "SAS",
   "language": "sas",
   "name": "sas"
  },
  "language_info": {
   "codemirror_mode": "sas",
   "file_extension": ".sas",
   "mimetype": "text/x-sas",
   "name": "sas"
  }
 },
 "nbformat": 4,
 "nbformat_minor": 5
}
