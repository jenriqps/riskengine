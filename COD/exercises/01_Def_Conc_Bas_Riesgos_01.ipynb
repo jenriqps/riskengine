{
 "cells": [
  {
   "cell_type": "markdown",
   "id": "ba691f01-044f-4764-9e53-6a1ac69034aa",
   "metadata": {},
   "source": [
    "# Exercise 1 & 2 | Definition of the Basic Risk Concepts"
   ]
  },
  {
   "cell_type": "markdown",
   "id": "d77ec8ea-c6c8-4a46-961e-14fb8b7f34e6",
   "metadata": {},
   "source": [
    "Actuarial Science Undergratuate Program | Facultad de Negocios | Universidad La Salle México | Financial Risks | José Enrique Pérez Salvador"
   ]
  },
  {
   "cell_type": "markdown",
   "id": "a8c4ce80-62a6-4c65-ae97-0e4fb313cda9",
   "metadata": {},
   "source": [
    "## Exercise 1"
   ]
  },
  {
   "cell_type": "markdown",
   "id": "338ae8a2-4400-4798-84a8-3ad080695454",
   "metadata": {},
   "source": [
    "(Example 2.14 Quantitative Risk Management) Suppose that the loss distribution $ 𝐹_𝐿 $ is normal with mean $ \\mu $ and variance $ \\sigma^2 $. Fix $ \\alpha \\in (0,1) $. "
   ]
  },
  {
   "cell_type": "markdown",
   "id": "f6eedbd6-7691-4246-a574-0f720c48cc52",
   "metadata": {},
   "source": [
    "1) Compute $ 𝑉𝑎𝑅_\\alpha $.\n",
    "2) Plot the $ 𝑉𝑎𝑅_𝛼 $ for $ \\mu=1$, $ \\sigma =1.5 $, and $ \\alpha \\in \\{0.95,0.975,0.99,0.995\\} $"
   ]
  },
  {
   "cell_type": "code",
   "execution_count": null,
   "id": "45be2b06-24ae-4856-be0a-5f2e42b3156b",
   "metadata": {},
   "outputs": [],
   "source": [
    "%let mu=1;\n",
    "%let sigma=1.5;"
   ]
  },
  {
   "cell_type": "code",
   "execution_count": null,
   "id": "790fae73-2eab-43f7-b66b-a6bca53311cc",
   "metadata": {},
   "outputs": [],
   "source": [
    "data normal;\n",
    "\t/* Formatos de las variables */\n",
    "\tformat x pdf cdf 10.6;\n",
    "\t/* Etiquetas de las variables */\n",
    "\tlabel x =\"Value\" pdf=\"Density function\" cdf=\"Distribution function\";\n",
    "\t/* Ciclos para calcular las probabilidades  */\n",
    "\t\tdo x=-3.5 to 5.5 by 0.1;\n",
    "\t\tpdf=pdf('NORMAL',x,&mu.,&sigma.); \n",
    "\t\tcdf=cdf('NORMAL',x,&mu.,&sigma.); \n",
    "\t\toutput;\n",
    "\t\tend;\t\t\n",
    "run;"
   ]
  },
  {
   "cell_type": "code",
   "execution_count": null,
   "id": "f4f5e077-dfff-4b28-93a5-9132ae74f45c",
   "metadata": {},
   "outputs": [],
   "source": [
    "data normal_var;\n",
    "\t/* Formatos de las variables */\n",
    "\tformat alpha var comma10.6;\n",
    "\t/* Etiquetas de las variables */\n",
    "\tlabel alpha =\"Confidence level 𝛼\" var=\"Value at Risk\";\n",
    "\talpha=0.95;\n",
    "\tvar=quantile('NORMAL',alpha,&mu.,&sigma.); output;\n",
    "\talpha=0.975;\n",
    "\tvar=quantile('NORMAL',alpha,&mu.,&sigma.); output;\n",
    "\talpha=0.99;\n",
    "\tvar=quantile('NORMAL',alpha,&mu.,&sigma.); output;\n",
    "\talpha=0.995;\n",
    "\tvar=quantile('NORMAL',alpha,&mu.,&sigma.); output;\n",
    "run;"
   ]
  },
  {
   "cell_type": "code",
   "execution_count": null,
   "id": "88fbfdd1-9dc3-4ffe-9eaa-419b72c47ef9",
   "metadata": {},
   "outputs": [],
   "source": [
    "proc sql noprint;\n",
    "\tselect alpha into: alpha_95\n",
    "\tfrom normal_var\n",
    "\twhere alpha=0.95\n",
    "\t;\n",
    "\tselect var into: var_95\n",
    "\tfrom normal_var\n",
    "\twhere alpha=0.95\n",
    "\t;\n",
    "\tselect alpha into: alpha_975\n",
    "\tfrom normal_var\n",
    "\twhere alpha=0.975\n",
    "\t;\n",
    "\tselect var into: var_975\n",
    "\tfrom normal_var\n",
    "\twhere alpha=0.975\n",
    "\t;\n",
    "\tselect alpha into: alpha_99\n",
    "\tfrom normal_var\n",
    "\twhere alpha=0.99\n",
    "\t;\n",
    "\tselect var into: var_99\n",
    "\tfrom normal_var\n",
    "\twhere alpha=0.99\n",
    "\t;\n",
    "\tselect alpha into: alpha_995\n",
    "\tfrom normal_var\n",
    "\twhere alpha=0.995\n",
    "\t;\n",
    "\tselect var into: var_995\n",
    "\tfrom normal_var\n",
    "\twhere alpha=0.995\n",
    "\t;\n",
    "quit;"
   ]
  },
  {
   "cell_type": "code",
   "execution_count": null,
   "id": "b6b8e788-0977-4d56-ac1e-61da763aa651",
   "metadata": {},
   "outputs": [],
   "source": [
    "%put &=alpha_95. &=alpha_975. &=alpha_99. &=alpha_995.;\n",
    "%put &=var_95. &=var_975. &=var_99. &=var_995.;"
   ]
  },
  {
   "cell_type": "code",
   "execution_count": null,
   "id": "b072e524-c962-450f-863b-d33984fb9e22",
   "metadata": {},
   "outputs": [],
   "source": [
    "ods graphics / reset width=6.4in height=4.8in imagemap noborder;\n",
    "\n",
    "proc sort data=WORK.normal out=_SeriesPlotTaskData;\n",
    "\tby x;\n",
    "run;\n",
    "\n",
    "proc sgplot data=_SeriesPlotTaskData;\n",
    "\ttitle height=14pt \"Density function of the Normal distribution μ=&mu., σ=1.5\";\n",
    "\tseries x=x y=pdf;\n",
    "\txaxis grid;\n",
    "\tyaxis grid;\n",
    "\trefline &var_95./axis=x label=\"VaR(95)=&var_95.\" lineattrs=(pattern=solid color=red);\n",
    "\trefline &var_975./axis=x label=\"VaR(97.5)=&var_975.\" lineattrs=(pattern=solid color=orange);\n",
    "\trefline &var_99./axis=x label=\"VaR(99)=&var_99.\" lineattrs=(pattern=solid color=green);\n",
    "\trefline &var_995./axis=x label=\"VaR(99.5)=&var_995.\" lineattrs=(pattern=solid color=blue);\n",
    "run;\n",
    "\n",
    "proc sgplot data=_SeriesPlotTaskData;\n",
    "\ttitle height=14pt \"Normal Distribution function μ=&mu., σ=1.5\";\n",
    "\tseries x=x y=cdf;\n",
    "\txaxis grid;\n",
    "\tyaxis grid min=0.90;\n",
    "\trefline &var_95./axis=x label=\"VaR(95)=&var_95.\" lineattrs=(pattern=solid color=red);\n",
    "\trefline &var_975./axis=x label=\"VaR(97.5)=&var_975.\" lineattrs=(pattern=solid color=orange);\n",
    "\trefline &var_99./axis=x label=\"VaR(99)=&var_99.\" lineattrs=(pattern=solid color=green);\n",
    "\trefline &var_995./axis=x label=\"VaR(99.5)=&var_995.\" lineattrs=(pattern=solid color=blue);\n",
    "\trefline &alpha_95./axis=y label=\"&alpha_95.\" lineattrs=(pattern=solid color=red);\n",
    "\trefline &alpha_975./axis=y label=\"&alpha_975.\" lineattrs=(pattern=solid color=orange);\n",
    "\trefline &alpha_99./axis=y label=\"&alpha_99.\" lineattrs=(pattern=solid color=green);\n",
    "\trefline &alpha_995./axis=y label=\"&alpha_995.\" lineattrs=(pattern=solid color=blue);\n",
    "run;\n",
    "\n",
    "ods graphics / reset;\n",
    "title;\n"
   ]
  },
  {
   "cell_type": "code",
   "execution_count": null,
   "id": "236e0cfa-12fa-4258-8690-cb07a190b512",
   "metadata": {},
   "outputs": [],
   "source": [
    "proc datasets library=WORK noprint;\n",
    "\tdelete _SeriesPlotTaskData;\n",
    "run;"
   ]
  },
  {
   "cell_type": "markdown",
   "id": "d6c44394-6d19-4c4c-a423-bb4e6ef684a8",
   "metadata": {},
   "source": [
    "## Exercise 2"
   ]
  },
  {
   "cell_type": "markdown",
   "id": "4b1e706a-e98a-415f-9c67-d8be9486b38a",
   "metadata": {},
   "source": [
    "Assume a normal random variable $ 𝐿 $ with mean $ \\mu $ and variance $ \\sigma^2 $."
   ]
  },
  {
   "cell_type": "markdown",
   "id": "a6a2d035-beb3-43f9-afe5-d6942506dd97",
   "metadata": {},
   "source": [
    "1) Compute the $ CVaR $ at confidence level $ \\alpha \\in (0,1) $.\n",
    "2) Plot the $ 𝐶𝑉𝑎𝑅_\\alpha $ for $\\mu = 1$, $ \\sigma =1.5 $, and $ \\alpha \\in \\{0.95,0.975,0.99,0.995\\} $"
   ]
  },
  {
   "cell_type": "code",
   "execution_count": null,
   "id": "2c19391d-5252-40f5-9e26-632da5030296",
   "metadata": {},
   "outputs": [],
   "source": [
    "data normal_cvar;\n",
    "\t/* Formatos de las variables */\n",
    "\tformat cvar comma10.6;\n",
    "\t/* Etiquetas de las variables */\n",
    "\tlabel cvar=\"Conditional Value at Risk\";\n",
    "\tset normal_var;\n",
    "\tcvar=&mu.+&sigma.*pdf('NORMAL',quantile('NORMAL',alpha,0,1),0,1)/(1-alpha); \n",
    "run;"
   ]
  },
  {
   "cell_type": "code",
   "execution_count": null,
   "id": "b1e7e91c-c1da-411e-bac0-c5fd8b5c023c",
   "metadata": {},
   "outputs": [],
   "source": [
    "proc sql noprint;\n",
    "\tselect cvar into: cvar_95\n",
    "\tfrom normal_cvar\n",
    "\twhere alpha=0.95\n",
    "\t;\n",
    "\tselect cvar into: cvar_975\n",
    "\tfrom normal_cvar\n",
    "\twhere alpha=0.975\n",
    "\t;\n",
    "\tselect cvar into: cvar_99\n",
    "\tfrom normal_cvar\n",
    "\twhere alpha=0.99\n",
    "\t;\n",
    "\tselect cvar into: cvar_995\n",
    "\tfrom normal_cvar\n",
    "\twhere alpha=0.995\n",
    "\t;\n",
    "quit;"
   ]
  },
  {
   "cell_type": "code",
   "execution_count": null,
   "id": "87494146-685a-421f-a65c-e4d39d20b84d",
   "metadata": {},
   "outputs": [],
   "source": [
    "ods graphics / reset width=6.4in height=4.8in imagemap noborder;\n",
    "\n",
    "proc sort data=WORK.normal out=_SeriesPlotTaskData;\n",
    "\tby x;\n",
    "run;\n",
    "\n",
    "proc sgplot data=_SeriesPlotTaskData;\n",
    "\ttitle height=14pt \"Density function of the Normal distribution μ=&mu., σ=1.5\";\n",
    "\tseries x=x y=pdf;\n",
    "\txaxis grid min=0.5;\n",
    "\tyaxis grid;\n",
    "\trefline &var_95./axis=x label=\"VaR(95)=&var_95.\" lineattrs=(pattern=solid color=red);\n",
    "\trefline &cvar_95./axis=x label=\"CVaR(95)=&cvar_95.\" lineattrs=(pattern=shortdash color=red);\n",
    "\trefline &var_975./axis=x label=\"VaR(97.5)=&var_975.\" lineattrs=(pattern=solid color=orange);\n",
    "\trefline &cvar_975./axis=x label=\"CVaR(97.5)=&cvar_975.\" lineattrs=(pattern=shortdash color=orange);\n",
    "\trefline &var_99./axis=x label=\"VaR(99)=&var_99.\" lineattrs=(pattern=solid color=green);\n",
    "\trefline &cvar_99./axis=x label=\"CVaR(99)=&cvar_99.\" lineattrs=(pattern=shortdash color=green);\n",
    "\trefline &var_995./axis=x label=\"VaR(99.5)=&var_995.\" lineattrs=(pattern=solid color=blue);\n",
    "\trefline &cvar_995./axis=x label=\"CVaR(99.5)=&cvar_995.\" lineattrs=(pattern=shortdash color=blue);\n",
    "run;\n",
    "\n",
    "ods graphics / reset;\n",
    "title;\n",
    "\n",
    "proc datasets library=WORK noprint;\n",
    "\tdelete _SeriesPlotTaskData;\n",
    "run;"
   ]
  },
  {
   "cell_type": "code",
   "execution_count": null,
   "id": "b1228485-bc2e-4e20-880a-2ef13856b13a",
   "metadata": {},
   "outputs": [],
   "source": []
  }
 ],
 "metadata": {
  "kernelspec": {
   "display_name": "SAS",
   "language": "sas",
   "name": "sas"
  },
  "language_info": {
   "codemirror_mode": "sas",
   "file_extension": ".sas",
   "mimetype": "text/x-sas",
   "name": "sas"
  }
 },
 "nbformat": 4,
 "nbformat_minor": 5
}
