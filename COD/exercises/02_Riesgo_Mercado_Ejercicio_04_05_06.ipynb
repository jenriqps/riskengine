{
 "cells": [
  {
   "cell_type": "markdown",
   "id": "7c4c0160-f924-45ad-aa51-e7665d83d5ee",
   "metadata": {},
   "source": [
    "# 📈Exercise 4 | Historical Simulations"
   ]
  },
  {
   "cell_type": "markdown",
   "id": "97b12679-4ef9-4435-bd17-eccf96316b6b",
   "metadata": {},
   "source": [
    "Actuarial Science Undergratuate Program | Facultad de Negocios | Universidad La Salle México | Financial Risks Class | José Enrique Pérez Salvador"
   ]
  },
  {
   "cell_type": "markdown",
   "id": "b235e43c-b78b-4e4f-902c-d3b9bab9836e",
   "metadata": {},
   "source": [
    "You have an investment portfolio on June 20th, 2016,  described in the file “portfolio.xlsx”."
   ]
  },
  {
   "cell_type": "markdown",
   "id": "a151a069-60cd-481f-b7ec-74730cdf7150",
   "metadata": {},
   "source": [
    "and the configuration of risk factors is in the file “configuration.xlsx”."
   ]
  },
  {
   "cell_type": "markdown",
   "id": "dd2868e1-6366-497d-bec5-d4355228a99d",
   "metadata": {},
   "source": [
    "Finally, you have the time series (June 23, 2014 - June 20, 2016) of every market risk factor related to your portfolio in the file “market_data.xlsx”."
   ]
  },
  {
   "cell_type": "markdown",
   "id": "fb9717b1-3c6e-4fac-8a62-079f31442fcb",
   "metadata": {},
   "source": [
    "The three Excel files are available in Moodle."
   ]
  },
  {
   "cell_type": "markdown",
   "id": "f29fc590-6f50-44e1-9d53-cbaaa06d07a7",
   "metadata": {},
   "source": [
    "Your data source is Microsoft 365 for the stocks and exchange rates, however, in Mexico, for the purposes of financial instruments valuation at fair value, the official sources are the price vendors (PiP and Valmer) regulated by the Comisión Nacional Bancaria y de Valores.\n"
   ]
  },
  {
   "cell_type": "markdown",
   "id": "9a2e00cd-8855-4423-ac63-a6f14341dfdf",
   "metadata": {
    "tags": []
   },
   "source": [
    "## 1. Open a SAS Viya for Learners session."
   ]
  },
  {
   "cell_type": "markdown",
   "id": "4601bd76-d293-43b5-948c-254a2b0f984d",
   "metadata": {
    "tags": []
   },
   "source": [
    "## 2. Create the MYLIB library, ask the teacher for more instructions."
   ]
  },
  {
   "cell_type": "code",
   "execution_count": null,
   "id": "26bbac1f-64fb-45fe-a395-40b48823d46a",
   "metadata": {},
   "outputs": [],
   "source": [
    "libname mylib \"/export/viya/homes/perez-jose@lasallistas.org.mx\";"
   ]
  },
  {
   "cell_type": "markdown",
   "id": "dfa8752c-f534-48bd-aa58-92fbece9e26a",
   "metadata": {
    "tags": []
   },
   "source": [
    "## 3. Import to SAS the file market_data.xlsx..."
   ]
  },
  {
   "cell_type": "markdown",
   "id": "943ca4db-6733-4b1c-a619-81d5f0607ade",
   "metadata": {},
   "source": [
    "using the SAS IMPORT procedure. Save your data set as MYLIB.market_data"
   ]
  },
  {
   "cell_type": "code",
   "execution_count": null,
   "id": "c62a7666-a30e-4743-9d0b-dc19a7802852",
   "metadata": {},
   "outputs": [],
   "source": [
    "proc sql;\n",
    "%if %sysfunc(exist(MYLIB.market_data)) %then %do;\n",
    "    drop table MYLIB.market_data;\n",
    "%end;\n",
    "%if %sysfunc(exist(MYLIB.market_data,VIEW)) %then %do;\n",
    "    drop view MYLIB.market_data;\n",
    "%end;\n",
    "quit;\n",
    "\n",
    "FILENAME REFFILE DISK '/export/viya/homes/perez-jose@lasallistas.org.mx/FinancialRisks/Exercise_4/market_data.xlsx';\n",
    "\n",
    "PROC IMPORT DATAFILE=REFFILE\n",
    "\tDBMS=XLSX\n",
    "\tOUT=MYLIB.market_data;\n",
    "\tGETNAMES=YES;\n",
    "RUN;\n",
    "\n",
    "PROC CONTENTS DATA=MYLIB.market_data varnum; RUN;"
   ]
  },
  {
   "cell_type": "markdown",
   "id": "04849ed7-553b-45e0-beec-0fb3e34841df",
   "metadata": {
    "tags": []
   },
   "source": [
    "## 4. Plot every market risk factor..."
   ]
  },
  {
   "cell_type": "markdown",
   "id": "3f345e28-7fc6-476e-9b47-4a640de5b4c1",
   "metadata": {},
   "source": [
    "with the SAS Task “Series Plot” (Tasks > SAS Tasks > Standard > Visualize Data > Graph > Series Plot). Personalize your plot (change color or markers, add a title, etc.)."
   ]
  },
  {
   "cell_type": "code",
   "execution_count": null,
   "id": "7e23a67f-9cf7-4a61-b0a1-fbd36a1cd7db",
   "metadata": {},
   "outputs": [],
   "source": [
    "ods graphics / reset width=6.4in height=4.8in imagemap;\n",
    "\n",
    "proc sort data=MYLIB.MARKET_DATA out=_SeriesPlotTaskData;\n",
    "\tby date;\n",
    "run;\n",
    "\n",
    "proc sgplot data=_SeriesPlotTaskData;\n",
    "\ttitle height=14pt \"Risks Factors\";\n",
    "\tseries x=date y=AAPL /;\n",
    "\txaxis grid;\n",
    "\tyaxis grid;\n",
    "run;\n",
    "\n",
    "ods graphics / reset;\n",
    "title;\n",
    "\n",
    "proc datasets library=WORK noprint;\n",
    "\tdelete _SeriesPlotTaskData;\n",
    "run;"
   ]
  },
  {
   "cell_type": "markdown",
   "id": "8844639d-d927-4ee6-8dd9-6fb154bcd20b",
   "metadata": {
    "tags": []
   },
   "source": [
    "## 5. Compute descriptive statistics and histograms for every market risk factor..."
   ]
  },
  {
   "cell_type": "markdown",
   "id": "680d151e-bef4-46f0-acc5-925de1ed76d8",
   "metadata": {},
   "source": [
    " with the SAS Task “Characterize Data” (Tasks > SAS Tasks > Standard > Prepare Data > Examine Data > Characterize Data)."
   ]
  },
  {
   "cell_type": "code",
   "execution_count": null,
   "id": "d2ba06ac-2dc5-4748-9cd1-11d599b6a5e2",
   "metadata": {},
   "outputs": [],
   "source": [
    "ods noproctitle;\n",
    "\n",
    "/*** Analyze numeric variables ***/\n",
    "title \"Descriptive Statistics for Numeric Variables\";\n",
    "\n",
    "proc means data=MYLIB.MARKET_DATA n nmiss min mean median max std;\n",
    "\tvar AMXL AAPL JPM USDMXN CETES_1 CETES_7 CETES_14 CETES_28 CETES_91 CETES_182 \n",
    "\t\tCETES_364 CETES_728 CETES_1092 CETES_1456 CETES_1820 CETES_2180 CETES_2548 \n",
    "\t\tCETES_2912 CETES_3276 CETES_3640 CETES_4004 CETES_4368 CETES_4732 CETES_5096 \n",
    "\t\tCETES_5460 CETES_5824 CETES_6188 CETES_6552 CETES_6916 CETES_7280 CETES_7644 \n",
    "\t\tCETES_8008 CETES_8372 CETES_8736 CETES_9020 CETES_9464 CETES_9828 CETES_10192 \n",
    "\t\tCETES_10556 CETES_10800 CETES_10920 LIBOR_1 LIBOR_7 LIBOR_14 LIBOR_28 \n",
    "\t\tLIBOR_91 LIBOR_182 LIBOR_364 LIBOR_728 LIBOR_1092 LIBOR_1456 LIBOR_1820 \n",
    "\t\tLIBOR_2180 LIBOR_2548 LIBOR_2912 LIBOR_3276 LIBOR_3640 LIBOR_4004 LIBOR_4368 \n",
    "\t\tLIBOR_4732 LIBOR_5096 LIBOR_5460 LIBOR_5824 LIBOR_6188 LIBOR_6552 LIBOR_6916 \n",
    "\t\tLIBOR_7280 LIBOR_7644 LIBOR_8008 LIBOR_8372 LIBOR_8736 LIBOR_9020 LIBOR_9464 \n",
    "\t\tLIBOR_9828 LIBOR_10192 LIBOR_10556 LIBOR_10800 LIBOR_10920;\n",
    "run;\n",
    "\n",
    "title;\n",
    "\n",
    "proc univariate data=MYLIB.MARKET_DATA noprint;\n",
    "\thistogram AMXL AAPL JPM USDMXN CETES_1 CETES_7 CETES_14 CETES_28 CETES_91 \n",
    "\t\tCETES_182 CETES_364 CETES_728 CETES_1092 CETES_1456 CETES_1820 CETES_2180 \n",
    "\t\tCETES_2548 CETES_2912 CETES_3276 CETES_3640 CETES_4004 CETES_4368 CETES_4732 \n",
    "\t\tCETES_5096 CETES_5460 CETES_5824 CETES_6188 CETES_6552 CETES_6916 CETES_7280 \n",
    "\t\tCETES_7644 CETES_8008 CETES_8372 CETES_8736 CETES_9020 CETES_9464 CETES_9828 \n",
    "\t\tCETES_10192 CETES_10556 CETES_10800 CETES_10920 LIBOR_1 LIBOR_7 LIBOR_14 \n",
    "\t\tLIBOR_28 LIBOR_91 LIBOR_182 LIBOR_364 LIBOR_728 LIBOR_1092 LIBOR_1456 \n",
    "\t\tLIBOR_1820 LIBOR_2180 LIBOR_2548 LIBOR_2912 LIBOR_3276 LIBOR_3640 LIBOR_4004 \n",
    "\t\tLIBOR_4368 LIBOR_4732 LIBOR_5096 LIBOR_5460 LIBOR_5824 LIBOR_6188 LIBOR_6552 \n",
    "\t\tLIBOR_6916 LIBOR_7280 LIBOR_7644 LIBOR_8008 LIBOR_8372 LIBOR_8736 LIBOR_9020 \n",
    "\t\tLIBOR_9464 LIBOR_9828 LIBOR_10192 LIBOR_10556 LIBOR_10800 LIBOR_10920;\n",
    "run;\n",
    "\n",
    "/*** Analyze date variables ***/\n",
    "title \"Minimum and Maximum Dates\";\n",
    "\n",
    "proc sql;\n",
    "\tselect \"date\" label=\"Date variable\", min(date) \n",
    "\t\tformat=MMDDYY10. label=\"Minimum date\" , max(date) \n",
    "\t\tformat=MMDDYY10. label=\"Maximum date\" from MYLIB.MARKET_DATA;\n",
    "quit;\n",
    "\n",
    "title;"
   ]
  },
  {
   "cell_type": "markdown",
   "id": "07dba9dc-6e4f-49f3-8c1b-d1765a2f93a3",
   "metadata": {
    "tags": []
   },
   "source": [
    "## 6. Identify the missing values in every market risk factors..."
   ]
  },
  {
   "cell_type": "markdown",
   "id": "ccb0222d-481d-4d53-a12a-4802a802f285",
   "metadata": {},
   "source": [
    "using the SAS Task “Describe missing data” (Tasks > SAS Tasks > Standard > Prepare Data > Examine Data > Describe missing data)."
   ]
  },
  {
   "cell_type": "code",
   "execution_count": null,
   "id": "6bf98430-8517-45c9-96a5-b1eff7c127f4",
   "metadata": {},
   "outputs": [],
   "source": [
    "ods noproctitle;\n",
    "\n",
    "proc format;\n",
    "\tvalue _nmissprint low-high=\"Non-missing\";\n",
    "run;\n",
    "\n",
    "proc freq data=MYLIB.MARKET_DATA;\n",
    "\ttitle3 \"Missing Data Frequencies\";\n",
    "\ttitle4 h=2 \"Legend: ., A, B, etc = Missing\";\n",
    "\tformat date AMXL AAPL JPM USDMXN _nmissprint.;\n",
    "\ttables date AMXL AAPL JPM USDMXN / missing nocum;\n",
    "run;\n",
    "\n",
    "proc freq data=MYLIB.MARKET_DATA noprint;\n",
    "\ttable date * AMXL * AAPL * JPM * USDMXN / missing out=Work._MissingData_;\n",
    "\tformat date AMXL AAPL JPM USDMXN _nmissprint.;\n",
    "run;\n",
    "\n",
    "proc print data=Work._MissingData_ noobs label;\n",
    "\ttitle3 \"Missing Data Patterns across Variables\";\n",
    "\ttitle4 h=2 \"Legend: ., A, B, etc = Missing\";\n",
    "\tformat date AMXL AAPL JPM USDMXN _nmissprint.;\n",
    "\tlabel count=\"Frequency\" percent=\"Percent\";\n",
    "run;\n",
    "\n",
    "title3;\n",
    "\n",
    "/* Clean up */\n",
    "proc delete data=Work._MissingData_;\n",
    "run;"
   ]
  },
  {
   "cell_type": "code",
   "execution_count": null,
   "id": "d130f8c9-302f-450f-8880-abce73b923fb",
   "metadata": {},
   "outputs": [],
   "source": [
    "\n",
    "ods noproctitle;\n",
    "\n",
    "proc format;\n",
    "\tvalue _nmissprint low-high=\"Non-missing\";\n",
    "run;\n",
    "\n",
    "proc freq data=MYLIB.MARKET_DATA;\n",
    "\ttitle3 \"Missing Data Frequencies\";\n",
    "\ttitle4 h=2 \"Legend: ., A, B, etc = Missing\";\n",
    "\tformat CETES_1 CETES_7 CETES_14 CETES_28 CETES_91 CETES_182 CETES_364 \n",
    "\t\tCETES_728 CETES_1092 CETES_1456 CETES_1820 CETES_2180 CETES_2548 CETES_2912 \n",
    "\t\tCETES_3276 CETES_3640 CETES_4004 CETES_4368 CETES_4732 CETES_5096 CETES_5460 \n",
    "\t\tCETES_5824 CETES_6188 CETES_6552 CETES_6916 CETES_7280 CETES_7644 CETES_8008 \n",
    "\t\tCETES_8372 CETES_8736 CETES_9020 CETES_9464 CETES_9828 CETES_10192 \n",
    "\t\tCETES_10556 CETES_10800 CETES_10920 _nmissprint.;\n",
    "\ttables CETES_1 CETES_7 CETES_14 CETES_28 CETES_91 CETES_182 CETES_364 \n",
    "\t\tCETES_728 CETES_1092 CETES_1456 CETES_1820 CETES_2180 CETES_2548 CETES_2912 \n",
    "\t\tCETES_3276 CETES_3640 CETES_4004 CETES_4368 CETES_4732 CETES_5096 CETES_5460 \n",
    "\t\tCETES_5824 CETES_6188 CETES_6552 CETES_6916 CETES_7280 CETES_7644 CETES_8008 \n",
    "\t\tCETES_8372 CETES_8736 CETES_9020 CETES_9464 CETES_9828 CETES_10192 \n",
    "\t\tCETES_10556 CETES_10800 CETES_10920 / missing nocum;\n",
    "run;\n",
    "\n",
    "proc freq data=MYLIB.MARKET_DATA noprint;\n",
    "\ttable CETES_1 * CETES_7 * CETES_14 * CETES_28 * CETES_91 * CETES_182 * \n",
    "\t\tCETES_364 * CETES_728 * CETES_1092 * CETES_1456 * CETES_1820 * CETES_2180 * \n",
    "\t\tCETES_2548 * CETES_2912 * CETES_3276 * CETES_3640 * CETES_4004 * CETES_4368 * \n",
    "\t\tCETES_4732 * CETES_5096 * CETES_5460 * CETES_5824 * CETES_6188 * CETES_6552 * \n",
    "\t\tCETES_6916 * CETES_7280 * CETES_7644 * CETES_8008 * CETES_8372 * CETES_8736 * \n",
    "\t\tCETES_9020 * CETES_9464 * CETES_9828 * CETES_10192 * CETES_10556 * \n",
    "\t\tCETES_10800 * CETES_10920 / missing out=Work._MissingData_;\n",
    "\tformat CETES_1 CETES_7 CETES_14 CETES_28 CETES_91 CETES_182 CETES_364 \n",
    "\t\tCETES_728 CETES_1092 CETES_1456 CETES_1820 CETES_2180 CETES_2548 CETES_2912 \n",
    "\t\tCETES_3276 CETES_3640 CETES_4004 CETES_4368 CETES_4732 CETES_5096 CETES_5460 \n",
    "\t\tCETES_5824 CETES_6188 CETES_6552 CETES_6916 CETES_7280 CETES_7644 CETES_8008 \n",
    "\t\tCETES_8372 CETES_8736 CETES_9020 CETES_9464 CETES_9828 CETES_10192 \n",
    "\t\tCETES_10556 CETES_10800 CETES_10920 _nmissprint.;\n",
    "run;\n",
    "\n",
    "proc print data=Work._MissingData_ noobs label;\n",
    "\ttitle3 \"Missing Data Patterns across Variables\";\n",
    "\ttitle4 h=2 \"Legend: ., A, B, etc = Missing\";\n",
    "\tformat CETES_1 CETES_7 CETES_14 CETES_28 CETES_91 CETES_182 CETES_364 \n",
    "\t\tCETES_728 CETES_1092 CETES_1456 CETES_1820 CETES_2180 CETES_2548 CETES_2912 \n",
    "\t\tCETES_3276 CETES_3640 CETES_4004 CETES_4368 CETES_4732 CETES_5096 CETES_5460 \n",
    "\t\tCETES_5824 CETES_6188 CETES_6552 CETES_6916 CETES_7280 CETES_7644 CETES_8008 \n",
    "\t\tCETES_8372 CETES_8736 CETES_9020 CETES_9464 CETES_9828 CETES_10192 \n",
    "\t\tCETES_10556 CETES_10800 CETES_10920 _nmissprint.;\n",
    "\tlabel count=\"Frequency\" percent=\"Percent\";\n",
    "run;\n",
    "\n",
    "title3;\n",
    "\n",
    "/* Clean up */\n",
    "proc delete data=Work._MissingData_;\n",
    "run;"
   ]
  },
  {
   "cell_type": "code",
   "execution_count": null,
   "id": "238574e1-052a-4072-be4e-61c52b57b206",
   "metadata": {},
   "outputs": [],
   "source": [
    "ods noproctitle;\n",
    "\n",
    "proc format;\n",
    "\tvalue _nmissprint low-high=\"Non-missing\";\n",
    "run;\n",
    "\n",
    "proc freq data=MYLIB.MARKET_DATA;\n",
    "\ttitle3 \"Missing Data Frequencies\";\n",
    "\ttitle4 h=2 \"Legend: ., A, B, etc = Missing\";\n",
    "\tformat LIBOR_1 LIBOR_7 LIBOR_14 LIBOR_28 LIBOR_91 LIBOR_182 LIBOR_364 \n",
    "\t\tLIBOR_728 LIBOR_1092 LIBOR_1456 LIBOR_1820 LIBOR_2180 LIBOR_2548 LIBOR_2912 \n",
    "\t\tLIBOR_3276 LIBOR_3640 LIBOR_4004 LIBOR_4368 LIBOR_4732 LIBOR_5096 LIBOR_5460 \n",
    "\t\tLIBOR_5824 LIBOR_6188 LIBOR_6552 LIBOR_6916 LIBOR_7280 LIBOR_7644 LIBOR_8008 \n",
    "\t\tLIBOR_8372 LIBOR_8736 LIBOR_9020 LIBOR_9464 LIBOR_9828 LIBOR_10192 \n",
    "\t\tLIBOR_10556 LIBOR_10800 LIBOR_10920 _nmissprint.;\n",
    "\ttables LIBOR_1 LIBOR_7 LIBOR_14 LIBOR_28 LIBOR_91 LIBOR_182 LIBOR_364 \n",
    "\t\tLIBOR_728 LIBOR_1092 LIBOR_1456 LIBOR_1820 LIBOR_2180 LIBOR_2548 LIBOR_2912 \n",
    "\t\tLIBOR_3276 LIBOR_3640 LIBOR_4004 LIBOR_4368 LIBOR_4732 LIBOR_5096 LIBOR_5460 \n",
    "\t\tLIBOR_5824 LIBOR_6188 LIBOR_6552 LIBOR_6916 LIBOR_7280 LIBOR_7644 LIBOR_8008 \n",
    "\t\tLIBOR_8372 LIBOR_8736 LIBOR_9020 LIBOR_9464 LIBOR_9828 LIBOR_10192 \n",
    "\t\tLIBOR_10556 LIBOR_10800 LIBOR_10920 / missing nocum;\n",
    "run;\n",
    "\n",
    "proc freq data=MYLIB.MARKET_DATA noprint;\n",
    "\ttable LIBOR_1 * LIBOR_7 * LIBOR_14 * LIBOR_28 * LIBOR_91 * LIBOR_182 * \n",
    "\t\tLIBOR_364 * LIBOR_728 * LIBOR_1092 * LIBOR_1456 * LIBOR_1820 * LIBOR_2180 * \n",
    "\t\tLIBOR_2548 * LIBOR_2912 * LIBOR_3276 * LIBOR_3640 * LIBOR_4004 * LIBOR_4368 * \n",
    "\t\tLIBOR_4732 * LIBOR_5096 * LIBOR_5460 * LIBOR_5824 * LIBOR_6188 * LIBOR_6552 * \n",
    "\t\tLIBOR_6916 * LIBOR_7280 * LIBOR_7644 * LIBOR_8008 * LIBOR_8372 * LIBOR_8736 * \n",
    "\t\tLIBOR_9020 * LIBOR_9464 * LIBOR_9828 * LIBOR_10192 * LIBOR_10556 * \n",
    "\t\tLIBOR_10800 * LIBOR_10920 / missing out=Work._MissingData_;\n",
    "\tformat LIBOR_1 LIBOR_7 LIBOR_14 LIBOR_28 LIBOR_91 LIBOR_182 LIBOR_364 \n",
    "\t\tLIBOR_728 LIBOR_1092 LIBOR_1456 LIBOR_1820 LIBOR_2180 LIBOR_2548 LIBOR_2912 \n",
    "\t\tLIBOR_3276 LIBOR_3640 LIBOR_4004 LIBOR_4368 LIBOR_4732 LIBOR_5096 LIBOR_5460 \n",
    "\t\tLIBOR_5824 LIBOR_6188 LIBOR_6552 LIBOR_6916 LIBOR_7280 LIBOR_7644 LIBOR_8008 \n",
    "\t\tLIBOR_8372 LIBOR_8736 LIBOR_9020 LIBOR_9464 LIBOR_9828 LIBOR_10192 \n",
    "\t\tLIBOR_10556 LIBOR_10800 LIBOR_10920 _nmissprint.;\n",
    "run;\n",
    "\n",
    "proc print data=Work._MissingData_ noobs label;\n",
    "\ttitle3 \"Missing Data Patterns across Variables\";\n",
    "\ttitle4 h=2 \"Legend: ., A, B, etc = Missing\";\n",
    "\tformat LIBOR_1 LIBOR_7 LIBOR_14 LIBOR_28 LIBOR_91 LIBOR_182 LIBOR_364 \n",
    "\t\tLIBOR_728 LIBOR_1092 LIBOR_1456 LIBOR_1820 LIBOR_2180 LIBOR_2548 LIBOR_2912 \n",
    "\t\tLIBOR_3276 LIBOR_3640 LIBOR_4004 LIBOR_4368 LIBOR_4732 LIBOR_5096 LIBOR_5460 \n",
    "\t\tLIBOR_5824 LIBOR_6188 LIBOR_6552 LIBOR_6916 LIBOR_7280 LIBOR_7644 LIBOR_8008 \n",
    "\t\tLIBOR_8372 LIBOR_8736 LIBOR_9020 LIBOR_9464 LIBOR_9828 LIBOR_10192 \n",
    "\t\tLIBOR_10556 LIBOR_10800 LIBOR_10920 _nmissprint.;\n",
    "\tlabel count=\"Frequency\" percent=\"Percent\";\n",
    "run;\n",
    "\n",
    "title3;\n",
    "\n",
    "/* Clean up */\n",
    "proc delete data=Work._MissingData_;\n",
    "run;"
   ]
  },
  {
   "cell_type": "markdown",
   "id": "24cc86c5-9b50-4b73-b87b-144e3f702a35",
   "metadata": {
    "tags": []
   },
   "source": [
    "## 7. Replace the missing values of the market risk factors with the latest known data...\n"
   ]
  },
  {
   "cell_type": "markdown",
   "id": "9e18d33e-e576-4724-8ef7-a27facb2d902",
   "metadata": {},
   "source": [
    "i. e., with that of the immediately preceding date. Use the SAS EXPAND procedure checking its documentation here. The data set with the replacement of the missing values must have the name mylib.market_data_2"
   ]
  },
  {
   "cell_type": "code",
   "execution_count": null,
   "id": "780040ca-25c1-402b-9a07-19ed30d4f9a0",
   "metadata": {},
   "outputs": [],
   "source": [
    "proc expand data=mylib.market_data out=mylib.market_data_2 method=step;\n",
    "\tid date;\t\n",
    "run;"
   ]
  },
  {
   "cell_type": "markdown",
   "id": "3502ecc0-6a44-4f1e-9d5c-fa91125018ea",
   "metadata": {},
   "source": [
    "## 8. Identify the missing values in every market risk factors..."
   ]
  },
  {
   "cell_type": "markdown",
   "id": "f19ad563-16e7-45e2-87cf-eee75f671013",
   "metadata": {},
   "source": [
    " in the data set mylib.market_data_2 using the SAS Task “Describe missing data” (Tasks > SAS Tasks > Standard > Prepare Data > Examine Data > Describe missing data)."
   ]
  },
  {
   "cell_type": "code",
   "execution_count": null,
   "id": "d8933116-5ee0-4c8e-9425-a94464f26bc3",
   "metadata": {},
   "outputs": [],
   "source": [
    "ods noproctitle;\n",
    "\n",
    "proc format;\n",
    "\tvalue _nmissprint low-high=\"Non-missing\";\n",
    "run;\n",
    "\n",
    "proc freq data=MYLIB.MARKET_DATA_2;\n",
    "\ttitle3 \"Missing Data Frequencies\";\n",
    "\ttitle4 h=2 \"Legend: ., A, B, etc = Missing\";\n",
    "\tformat date AMXL AAPL JPM USDMXN _nmissprint.;\n",
    "\ttables date AMXL AAPL JPM USDMXN / missing nocum;\n",
    "run;\n",
    "\n",
    "proc freq data=MYLIB.MARKET_DATA_2 noprint;\n",
    "\ttable date * AMXL * AAPL * JPM * USDMXN / missing out=Work._MissingData_;\n",
    "\tformat date AMXL AAPL JPM USDMXN _nmissprint.;\n",
    "run;\n",
    "\n",
    "proc print data=Work._MissingData_ noobs label;\n",
    "\ttitle3 \"Missing Data Patterns across Variables\";\n",
    "\ttitle4 h=2 \"Legend: ., A, B, etc = Missing\";\n",
    "\tformat date AMXL AAPL JPM USDMXN _nmissprint.;\n",
    "\tlabel count=\"Frequency\" percent=\"Percent\";\n",
    "run;\n",
    "\n",
    "title3;\n",
    "\n",
    "/* Clean up */\n",
    "proc delete data=Work._MissingData_;\n",
    "run;"
   ]
  },
  {
   "cell_type": "markdown",
   "id": "96593cca-c39c-4395-85fa-16935b292427",
   "metadata": {},
   "source": [
    "## 9. Export your data set mylib.market_data_2 to an Excel file (.xlsx)."
   ]
  },
  {
   "cell_type": "code",
   "execution_count": null,
   "id": "50faf2b4-f2c5-4788-87f1-9b9275ff4a4e",
   "metadata": {},
   "outputs": [],
   "source": [
    "proc export data=mylib.market_data_2 outfile=\"/export/viya/homes/perez-jose@lasallistas.org.mx/market_data_2.xlsx\" dbms=xlsx replace;\n",
    "run;"
   ]
  },
  {
   "cell_type": "markdown",
   "id": "0bec60d6-9320-4719-85e2-781f668a69ca",
   "metadata": {
    "tags": []
   },
   "source": [
    "## 10. Calculate the changes in every market risk factor and considering the configuration in the file configuration.xlsx."
   ]
  },
  {
   "cell_type": "markdown",
   "id": "c94538f5-7765-42ac-8cf4-52a1cfd79d90",
   "metadata": {},
   "source": [
    "Use the SAS Task “Transform Data” (Tasks > SAS Tasks > Standard > Prepare Data > Transform Data > Transform Data). Ask the teacher for more instructions."
   ]
  },
  {
   "cell_type": "markdown",
   "id": "19607e58-9206-4c77-b7da-18bc1ad8290e",
   "metadata": {},
   "source": [
    "Importing the file configuration.xlsx"
   ]
  },
  {
   "cell_type": "code",
   "execution_count": null,
   "id": "31efc6a9-bf5b-4330-ab3f-5dac280efa9b",
   "metadata": {},
   "outputs": [],
   "source": [
    "proc sql;\n",
    "%if %sysfunc(exist(MYLIB.configuration)) %then %do;\n",
    "    drop table MYLIB.configuration;\n",
    "%end;\n",
    "%if %sysfunc(exist(MYLIB.configuration,VIEW)) %then %do;\n",
    "    drop view MYLIB.configuration;\n",
    "%end;\n",
    "quit;\n",
    "\n",
    "FILENAME REFFILE DISK '/export/viya/homes/perez-jose@lasallistas.org.mx/FinancialRisks/configuration.xlsx';\n",
    "\n",
    "PROC IMPORT DATAFILE=REFFILE\n",
    "\tDBMS=XLSX\n",
    "\tOUT=MYLIB.configuration;\n",
    "\tGETNAMES=YES;\n",
    "RUN;\n",
    "\n",
    "PROC CONTENTS DATA=MYLIB.configuration varnum; RUN;"
   ]
  },
  {
   "cell_type": "markdown",
   "id": "4fe54405-66b3-4367-99a8-0bae26293455",
   "metadata": {},
   "source": [
    "Identifying risk factors whose changes are measured with ratio or interval."
   ]
  },
  {
   "cell_type": "code",
   "execution_count": null,
   "id": "6014b59d-5aee-41f9-8d33-6164ee904833",
   "metadata": {},
   "outputs": [],
   "source": [
    "proc sql noprint;\n",
    "    select name into: rf_ratio separated by ' '\n",
    "    from mylib.configuration\n",
    "    where mlevel = \"RATIO\"\n",
    "    and name in (\n",
    "    select name \n",
    "    from sashelp.vcolumn\n",
    "    where libname = 'MYLIB'\n",
    "    and memname = 'MARKET_DATA_2')\n",
    "    ;\n",
    "    select cats(\"'\",name,\"'\") into: rf_ratio_com separated by ' '\n",
    "    from mylib.configuration\n",
    "    where mlevel = \"RATIO\"\n",
    "    and name in (\n",
    "    select name \n",
    "    from sashelp.vcolumn\n",
    "    where libname = 'MYLIB'\n",
    "    and memname = 'MARKET_DATA_2')\n",
    "    ;\n",
    "quit;\n",
    "%put &=rf_ratio;\n",
    "%put &=rf_ratio_com;\n",
    "proc sql noprint;\n",
    "    select name into: rf_interval separated by ' '\n",
    "    from mylib.configuration\n",
    "    where mlevel = \"INTERVAL\"\n",
    "    and name in (\n",
    "    select name \n",
    "    from sashelp.vcolumn\n",
    "    where libname = 'MYLIB'\n",
    "    and memname = 'MARKET_DATA_2')\n",
    "    ;\n",
    "    select cats(\"'\",name,\"'\") into: rf_interval_com separated by ' '\n",
    "    from mylib.configuration\n",
    "    where mlevel = \"INTERVAL\"\n",
    "    and name in (\n",
    "    select name \n",
    "    from sashelp.vcolumn\n",
    "    where libname = 'MYLIB'\n",
    "    and memname = 'MARKET_DATA_2')\n",
    "    ;\n",
    "quit;\n",
    "%put &=rf_interval;\n",
    "%put &=rf_interval_com;"
   ]
  },
  {
   "cell_type": "markdown",
   "id": "fdeb56f9-e24b-4d05-8983-5d1ddf6a9389",
   "metadata": {},
   "source": [
    "Risk factors with ratio change."
   ]
  },
  {
   "cell_type": "code",
   "execution_count": null,
   "id": "cd6eb84d-c63e-471f-87bd-9e7cd7432cd7",
   "metadata": {},
   "outputs": [],
   "source": [
    "proc iml;\n",
    "    use mylib.market_data_2(keep=&rf_ratio);\n",
    "    read all var _NUM_ into market_data_2[colname=numVars];\n",
    "    close mylib.market_data_2;\n",
    "    \n",
    "    nrow = nrow(market_data_2);\n",
    "    num = market_data_2[2:nrow,];\n",
    "    den = market_data_2[1:(nrow-1),];\n",
    "    ratio = num/den - 1;\n",
    "    \n",
    "    create work.ratio from ratio[colname={&rf_ratio_com}];\n",
    "    append from ratio;\n",
    "    close work.ratio;  \n",
    "quit;"
   ]
  },
  {
   "cell_type": "markdown",
   "id": "ef14a2bd-38d8-44c9-81a9-c8d6bfeb4dfa",
   "metadata": {},
   "source": [
    "Risk factors with interval change."
   ]
  },
  {
   "cell_type": "code",
   "execution_count": null,
   "id": "508dbd00-3976-441d-9937-d449ba1a7f5f",
   "metadata": {},
   "outputs": [],
   "source": [
    "proc iml;\n",
    "    use mylib.market_data_2(keep=&rf_interval);\n",
    "    read all var _NUM_ into market_data_2[colname=numVars];\n",
    "    close mylib.market_data_2;\n",
    "    \n",
    "    nrow = nrow(market_data_2);\n",
    "    s1 = market_data_2[2:nrow,];\n",
    "    s2 = market_data_2[1:(nrow-1),];\n",
    "    interval = s1 - s2;\n",
    "    \n",
    "    create work.interval from interval[colname={&rf_interval_com}];\n",
    "    append from interval;\n",
    "    close work.interval;  \n",
    "quit;"
   ]
  },
  {
   "cell_type": "code",
   "execution_count": null,
   "id": "6876430f-6630-458f-bbe3-45796fe6f092",
   "metadata": {},
   "outputs": [],
   "source": [
    "data MYLIB.MARKET_DATA_2_CH;\n",
    "    set work.ratio;\n",
    "    set work.interval;\n",
    "run;\n",
    "\n",
    "/* Clean up */\n",
    "proc datasets library=work noprint;\n",
    "    delete ratio interval;\n",
    "run;"
   ]
  },
  {
   "cell_type": "markdown",
   "id": "f1bb2996-f05b-4a25-8f67-e0a57cba3570",
   "metadata": {},
   "source": [
    "## 11. Select the current values (on June 20, 2016) of your risk factors with the following query."
   ]
  },
  {
   "cell_type": "code",
   "execution_count": null,
   "id": "af08e0eb-f318-4537-88fe-7c8c8cd4b5ab",
   "metadata": {},
   "outputs": [],
   "source": [
    "proc sql;\n",
    "\tcreate table mylib.currentdata as\n",
    "\tselect *\n",
    "\tfrom mylib.market_data_2\n",
    "\twhere date=\"20JUN2016\"d\n",
    "\t;\n",
    "quit;"
   ]
  },
  {
   "cell_type": "markdown",
   "id": "251b2226-eb77-4123-beb2-b37e51521ccf",
   "metadata": {},
   "source": [
    "## 12. Compute the historically simulated states of your market risk factors."
   ]
  },
  {
   "cell_type": "code",
   "execution_count": null,
   "id": "3e60952e-4636-4b8b-ac52-5c231e8702dc",
   "metadata": {},
   "outputs": [],
   "source": [
    "proc iml;\n",
    "    use MYLIB.MARKET_DATA_2_CH(keep=&rf_ratio);\n",
    "    read all var _NUM_ into ratio[colname=numVars];\n",
    "    close mylib.market_data_2_ch;\n",
    "\n",
    "    use MYLIB.MARKET_DATA_2_CH(keep=&rf_interval);\n",
    "    read all var _NUM_ into interval[colname=numVars];\n",
    "    close mylib.market_data_2_ch;\n",
    "\n",
    "    use mylib.currentdata(keep=&rf_ratio);\n",
    "    read all var _NUM_ into currentdata_ratio[colname=numVars];\n",
    "    close mylib.currentdata;\n",
    "\n",
    "    use mylib.currentdata(keep=&rf_interval);\n",
    "    read all var _NUM_ into currentdata_interval[colname=numVars];\n",
    "    close mylib.currentdata;\n",
    "\n",
    "\n",
    "    simstate_hs_ratio = currentdata_ratio # (1 + ratio);\n",
    "    simstate_hs_interval = currentdata_interval + interval;\n",
    "    \n",
    "    create work.simstate_hs_ratio from simstate_hs_ratio[colname={&rf_ratio_com}];\n",
    "    append from simstate_hs_ratio;\n",
    "    close work.simstate_hs_ratio;  \n",
    "\n",
    "    create work.simstate_hs_interval from simstate_hs_interval[colname={&rf_interval_com}];\n",
    "    append from simstate_hs_interval;\n",
    "    close work.simstate_hs_interval;\n",
    "quit;"
   ]
  },
  {
   "cell_type": "code",
   "execution_count": null,
   "id": "8f0d9166-6541-4fca-abe9-f3cfe72f9ad6",
   "metadata": {},
   "outputs": [],
   "source": [
    "data MYLIB.SIMSTATE_HS;\n",
    "    set work.simstate_hs_ratio;\n",
    "    set work.simstate_hs_interval;\n",
    "run;\n",
    "\n",
    "/* Clean up */\n",
    "proc datasets library=work noprint;\n",
    "    delete simstate_hs_ratio simstate_hs_interval;\n",
    "run;"
   ]
  },
  {
   "cell_type": "markdown",
   "id": "e138aa09-5c84-46ca-88c9-5a2c1e4483c7",
   "metadata": {},
   "source": [
    "## 13. Compute descriptive statistics and histograms for every market risk factor..."
   ]
  },
  {
   "cell_type": "markdown",
   "id": "741b3e23-d124-4218-852c-02929c25cb5a",
   "metadata": {},
   "source": [
    "in mylib.simstate_hs with the SAS Task “Characterize Data” (Tasks > SAS Tasks > Standard > Prepare Data > Examine Data > Characterize Data)."
   ]
  },
  {
   "cell_type": "code",
   "execution_count": null,
   "id": "4b105052-b7d4-43f0-8d67-d9afbfd68295",
   "metadata": {},
   "outputs": [],
   "source": [
    "ods noproctitle;\n",
    "\n",
    "/*** Analyze numeric variables ***/\n",
    "title \"Descriptive Statistics for Numeric Variables\";\n",
    "\n",
    "proc means data=MYLIB.SIMSTATE_HS n nmiss min mean median max std;\n",
    "\tvar AMXL AAPL JPM USDMXN CETES_1 CETES_7 CETES_14 CETES_28 CETES_91 CETES_182 \n",
    "\t\tCETES_364 CETES_728 CETES_1092 CETES_1456 CETES_1820 CETES_2180 CETES_2548 \n",
    "\t\tCETES_2912 CETES_3276 CETES_3640 CETES_4004 CETES_4368 CETES_4732 CETES_5096 \n",
    "\t\tCETES_5460 CETES_5824 CETES_6188 CETES_6552 CETES_6916 CETES_7280 CETES_7644 \n",
    "\t\tCETES_8008 CETES_8372 CETES_8736 CETES_9020 CETES_9464 CETES_9828 CETES_10192 \n",
    "\t\tCETES_10556 CETES_10800 CETES_10920 LIBOR_1 LIBOR_7 LIBOR_14 LIBOR_28 \n",
    "\t\tLIBOR_91 LIBOR_182 LIBOR_364 LIBOR_728 LIBOR_1092 LIBOR_1456 LIBOR_1820 \n",
    "\t\tLIBOR_2180 LIBOR_2548 LIBOR_2912 LIBOR_3276 LIBOR_3640 LIBOR_4004 LIBOR_4368 \n",
    "\t\tLIBOR_4732 LIBOR_5096 LIBOR_5460 LIBOR_5824 LIBOR_6188 LIBOR_6552 LIBOR_6916 \n",
    "\t\tLIBOR_7280 LIBOR_7644 LIBOR_8008 LIBOR_8372 LIBOR_8736 LIBOR_9020 LIBOR_9464 \n",
    "\t\tLIBOR_9828 LIBOR_10192 LIBOR_10556 LIBOR_10800 LIBOR_10920;\n",
    "run;\n",
    "\n",
    "title;\n",
    "\n",
    "proc univariate data=MYLIB.SIMSTATE_HS noprint;\n",
    "\thistogram AMXL AAPL JPM USDMXN CETES_1 CETES_7 CETES_14 CETES_28 CETES_91 \n",
    "\t\tCETES_182 CETES_364 CETES_728 CETES_1092 CETES_1456 CETES_1820 CETES_2180 \n",
    "\t\tCETES_2548 CETES_2912 CETES_3276 CETES_3640 CETES_4004 CETES_4368 CETES_4732 \n",
    "\t\tCETES_5096 CETES_5460 CETES_5824 CETES_6188 CETES_6552 CETES_6916 CETES_7280 \n",
    "\t\tCETES_7644 CETES_8008 CETES_8372 CETES_8736 CETES_9020 CETES_9464 CETES_9828 \n",
    "\t\tCETES_10192 CETES_10556 CETES_10800 CETES_10920 LIBOR_1 LIBOR_7 LIBOR_14 \n",
    "\t\tLIBOR_28 LIBOR_91 LIBOR_182 LIBOR_364 LIBOR_728 LIBOR_1092 LIBOR_1456 \n",
    "\t\tLIBOR_1820 LIBOR_2180 LIBOR_2548 LIBOR_2912 LIBOR_3276 LIBOR_3640 LIBOR_4004 \n",
    "\t\tLIBOR_4368 LIBOR_4732 LIBOR_5096 LIBOR_5460 LIBOR_5824 LIBOR_6188 LIBOR_6552 \n",
    "\t\tLIBOR_6916 LIBOR_7280 LIBOR_7644 LIBOR_8008 LIBOR_8372 LIBOR_8736 LIBOR_9020 \n",
    "\t\tLIBOR_9464 LIBOR_9828 LIBOR_10192 LIBOR_10556 LIBOR_10800 LIBOR_10920;\n",
    "run;"
   ]
  },
  {
   "cell_type": "markdown",
   "id": "25570e1c-9efa-4975-a15e-af055bd3fc12",
   "metadata": {},
   "source": [
    "## 14. Export your data set mylib.simstate_hs to a CSV file (.csv)."
   ]
  },
  {
   "cell_type": "code",
   "execution_count": null,
   "id": "b5884794-b6a7-457b-becc-12326cd05e50",
   "metadata": {},
   "outputs": [],
   "source": [
    "proc export data=mylib.simstate_hs outfile=\"/export/viya/homes/perez-jose@lasallistas.org.mx/simstate_hs.csv\" dbms=CSV replace;\n",
    "run;"
   ]
  },
  {
   "cell_type": "markdown",
   "id": "3ab1bff5-a881-4cb8-ae2f-e49dbc5a50d3",
   "metadata": {},
   "source": [
    "# 📈Exercise 5 | Monte Carlo Simulations"
   ]
  },
  {
   "cell_type": "markdown",
   "id": "c88a6685-ca00-4f91-b481-f70307982ccc",
   "metadata": {},
   "source": [
    "This exercise is based on the same assumptions as the exercise 4 but now the objective is to generate the Monte Carlo simulations of the risk factors, whose characteristics are:"
   ]
  },
  {
   "cell_type": "markdown",
   "id": "ed853882-51a3-4dcb-900f-703523cab16c",
   "metadata": {},
   "source": [
    "a) To simulate the value of the risk factor for the next day, 21JUN2016."
   ]
  },
  {
   "cell_type": "markdown",
   "id": "b8ab96f1-ead2-4507-8dde-c9d840ba6b8c",
   "metadata": {},
   "source": [
    "b) The stochastic equation parameters will be estimated with two years of history of the risk factors (20JUN2014-20JUN2016). For more real situations, it is recommended to test various stochastic equations for every risk factor and choose the best one based on a criteria."
   ]
  },
  {
   "cell_type": "markdown",
   "id": "c827fa0e-53a9-4a6d-ade5-b62c4af3fc64",
   "metadata": {},
   "source": [
    "c) 100K simulations for each risk factor."
   ]
  },
  {
   "cell_type": "markdown",
   "id": "010f672d-5ae8-45b2-b7a9-bd0502e3d295",
   "metadata": {},
   "source": [
    "d) It is assumed that the risk factors are independent. For more real situations, it is recommended to have a dependence model between risk factors."
   ]
  },
  {
   "cell_type": "markdown",
   "id": "917d0b98-e57c-437c-81bb-91e1ed27eaf8",
   "metadata": {},
   "source": [
    "## 1. Open a SAS Viya for Learners session"
   ]
  },
  {
   "cell_type": "markdown",
   "id": "e4c8391a-00d7-47c3-b0b6-1ccaaf78ad4b",
   "metadata": {},
   "source": [
    "## 2. Create the MODELS library..."
   ]
  },
  {
   "cell_type": "markdown",
   "id": "103bc254-f99c-4504-befc-b8adb46d12a2",
   "metadata": {},
   "source": [
    "ask the teacher for more instructions."
   ]
  },
  {
   "cell_type": "code",
   "execution_count": null,
   "id": "b6d4f98d-657b-4030-b22e-b072d6dce0db",
   "metadata": {},
   "outputs": [],
   "source": [
    "libname models \"/export/viya/homes/perez-jose@lasallistas.org.mx/FinancialRisks/Exercise_5/\";"
   ]
  },
  {
   "cell_type": "markdown",
   "id": "112ec8bf-ab4b-429e-9eb6-53e9fde12aaf",
   "metadata": {},
   "source": [
    "## 3. Upload the codes create_garch_1_1_wrd.sas and create_vasicek_ir_wrd.sas to your session."
   ]
  },
  {
   "cell_type": "markdown",
   "id": "7340ec34-e298-4176-b3eb-6ef34ea26dd3",
   "metadata": {},
   "source": [
    " Ask the teacher for more instructions."
   ]
  },
  {
   "cell_type": "code",
   "execution_count": null,
   "id": "a1874ed4-d8c4-4d45-a7ca-b2bd0da55de9",
   "metadata": {},
   "outputs": [],
   "source": [
    "%MACRO create_garch_1_1_wrd(inputds=,cd=,rf=,outds=);\n",
    "\n",
    "/*\n",
    "inputds: input data set with log returns of the risk factor\n",
    "cd: data set with the current level of the risk factor\n",
    "rf: name of the risk factor\n",
    "outds: output data with the simulations of the risk factor\n",
    "Note: This macro works without sending information to Risk Dimensions\n",
    "*/\n",
    "\t/* Joining the current level and logreturn of the risk factor */\n",
    "\tdata work.toforecast;\n",
    "\t\tset &inputds.(where=(date=\"&basedate.\"d));\n",
    "\t\tset &cd.;\n",
    "\trun;\n",
    "\n",
    "\t/* Future date to forecast until the horizon */\n",
    "\tdata work.toforecast2;\n",
    "\t\tformat date date9.;\n",
    "\t\tdo i=1 to &h.;\n",
    "\t\tdate = \"&basedate\"d+i; output;\n",
    "\t\tend;\n",
    "\trun;\n",
    "\n",
    "\t/* Appending the two previous data sets */\n",
    "\tproc append base=work.toforecast data=work.toforecast2 force;\n",
    "\trun;\n",
    "\n",
    "\t/* Estimation and simulation of the GARCH(1,1) model */\n",
    "\tproc model data=&inputds.(where=(date between \"&startdate.\"d and \"&enddate.\"d)) outparms=models.parms_&rf.;\n",
    "\t\tparameters arch0 arch1 garch1;\n",
    "\t\tRet&rf. = intercept;\n",
    "\t\th.Ret&rf. = arch0 + arch1 * xlag(resid.Ret&rf.**2,mse.Ret&rf.)+garch1*xlag(h.Ret&rf.,mse.Ret&rf.);\n",
    "\t\tlabel \n",
    "\t\tarch0 = \"Constant part of the conditional volatility\"\n",
    "\t\tarch1 = \"Coefficient of the lagged squared residuals\"\n",
    "\t\tgarch1 = \"Coefficient of lagged conditional volatility\";\n",
    "\t\t&rf. = zlag(&rf.)*exp(Ret&rf.);\n",
    "\t\tid date;\n",
    "\t\tfit ret&rf. / method=marquardt fiml \n",
    "\t\tmaxiter=1000 outpredict outactual outcov outs=models.s&rf. outest=models.cov&rf. out=models.res&rf.;\t\n",
    "\t\tsolve Ret&rf. &rf. / data=work.toforecast estdata=models.cov&rf. sdata=models.s&rf. random=&nsim. seed=321 out=&outds. forecast time=date; \t\t\n",
    "\tquit;\n",
    "\n",
    "%MEND;\n"
   ]
  },
  {
   "cell_type": "code",
   "execution_count": null,
   "id": "74089f25-5a1b-4bfa-9196-e541729d3df6",
   "metadata": {},
   "outputs": [],
   "source": [
    "%MACRO create_vasicek_ir_wrd(inputds=,cd=,rf=,outds=);\n",
    "\n",
    "/*\n",
    "inputds: input data set with the interest rates\n",
    "cd: data set with the current level of the risk factor\n",
    "rf: name of the risk factor\n",
    "outds: output data with the simulations of the risk factor\n",
    "Note: This macro works without sending information to Risk Dimensions\n",
    "*/\n",
    "\t/* Joining the current level and logreturn of the risk factor */\n",
    "\tdata work.toforecast;\n",
    "\t\tset &inputds.(where=(date=\"&basedate.\"d));\n",
    "\t\tset &cd.;\n",
    "\trun;\n",
    "\n",
    "\t/* Future date to forecast until the horizon */\n",
    "\tdata work.toforecast2;\n",
    "\t\tformat date date9.;\n",
    "\t\tdo i=1 to &h.;\n",
    "\t\tdate = \"&basedate\"d+i; output;\n",
    "\t\tend;\n",
    "\trun;\n",
    "\n",
    "\t/* Appending the two previous data sets */\n",
    "\tproc append base=work.toforecast data=work.toforecast2 force;\n",
    "\trun;\n",
    "\n",
    "\t/* Estimation and simulation of the Vasicek model */\n",
    "\tproc model data=&inputds.(where=(date between \"&startdate.\"d and \"&enddate.\"d)) outparms=models.parms_&rf.;\n",
    "\t\tparameters kappa theta;\n",
    "\t\t&rf. = lag(&rf.) + kappa  * (theta - lag(&rf.));\n",
    "\t\tlabel \n",
    "\t\tkappa = \"Speed of Mean Reversion\"\n",
    "\t\ttheta = \"Long term Mean\";\n",
    "\t\tid date;\n",
    "\t   \tfit &rf. / fiml maxiter=1000 outresid outpredict \n",
    "\t\toutactual outcov outs=models.s&rf. outest=models.cov&rf. out=models.res&rf.;\n",
    "\t\tsolve &rf. / data=work.toforecast estdata=models.cov&rf. sdata=models.s&rf. random=&nsim. seed=321 out=&outds. forecast time=date; \t\t\n",
    "\tquit;\n",
    "\n",
    "%MEND;"
   ]
  },
  {
   "cell_type": "markdown",
   "id": "f742febd-9bce-4c94-9a22-b6534ddaebd7",
   "metadata": {},
   "source": [
    "## 4. Create a new code and save it as exercise_5_topic_2.sas"
   ]
  },
  {
   "cell_type": "markdown",
   "id": "5e5524dc-6153-43b5-a5ae-d99de0ee97aa",
   "metadata": {},
   "source": [
    "## 5. In the code exercise_5_topic_2.sas..."
   ]
  },
  {
   "cell_type": "markdown",
   "id": "b1345555-a3c8-45a7-b35f-e512dcdeae1c",
   "metadata": {},
   "source": [
    "add the options for more detail in the log, call the files create_garch_1_1_wrd.sas and create_vasicek_ir_wrd.sas, and add the macrovariables to configure the Monte Carlo simulations. Ask the teacher for more instructions."
   ]
  },
  {
   "cell_type": "code",
   "execution_count": null,
   "id": "8c40bacc-4973-4ff0-9036-ac59b520b84c",
   "metadata": {},
   "outputs": [],
   "source": [
    "* Options for the detail of the log;\n",
    "* options mprint  mlogic mautosource mcompile mlogicnest mprintnest msglevel=n minoperator fullstimer symbolgen source2; \n",
    "* https://communities.sas.com/t5/SAS-Code-Examples/Estimating-GARCH-Models/ta-p/905609;\n",
    "\n",
    "* Base date;\n",
    "%let basedate=20JUN2016;\n",
    "* Horizon of the VaR;\n",
    "%let h=1;\n",
    "\n",
    "* Start and end date to collect historical data;\n",
    "data _null_;\n",
    "\taux = put(intnx('year',\"&baseDate.\"d,-2,'sameday'),date9.);\n",
    "\tcall symputx(\"startdate\",aux,'G');\n",
    "\tcall symputx(\"enddate\",\"&baseDate.\",'G');\n",
    "run;\n",
    "\n",
    "%put &=startdate. &=enddate.;\n",
    "\n",
    "* Number of simulations;\n",
    "%let nsim=100000;\n"
   ]
  },
  {
   "cell_type": "markdown",
   "id": "f77bfb6c-0c42-4103-acb1-859623e08f6c",
   "metadata": {},
   "source": [
    "## 6. Compute the logreturns of the market risk factors..."
   ]
  },
  {
   "cell_type": "markdown",
   "id": "24e15e93-4013-47f4-b3b3-d62ef3a8c0eb",
   "metadata": {},
   "source": [
    " AMXL, AAPL, JPM and USDMXN completing the following code"
   ]
  },
  {
   "cell_type": "code",
   "execution_count": null,
   "id": "692cfa33-06f2-484a-935a-7c517473719e",
   "metadata": {},
   "outputs": [],
   "source": [
    "* Logreturns;\n",
    "data MYLIB.MARKET_DATA_2_LR;\n",
    "\tset MYLIB.MARKET_DATA_2;\n",
    "RetAMXL=log(AMXL/lag(AMXL));\n",
    "RetAAPL=log(AAPL/lag(AAPL));\n",
    "RetJPM=log(JPM/lag(JPM));\n",
    "RetUSDMXN=log(USDMXN/lag(USDMXN));\n",
    "run;"
   ]
  },
  {
   "cell_type": "markdown",
   "id": "687e661a-e89b-4872-b053-5a0a500de26a",
   "metadata": {},
   "source": [
    "## 7. Estimate and simulate a GARCH(1,1) model for the logreturns of the market risk factors..."
   ]
  },
  {
   "cell_type": "markdown",
   "id": "35b52bf3-23b8-4429-95da-09292d065860",
   "metadata": {},
   "source": [
    "AMXL, AAPL, JPM and USDMXN completing the following code:"
   ]
  },
  {
   "cell_type": "code",
   "execution_count": null,
   "id": "0467a195-eb04-41a7-ad1a-a04580f04f12",
   "metadata": {},
   "outputs": [],
   "source": [
    "* Estimation and simulation of a GARCH(1,1) model ;\n",
    "%create_garch_1_1_wrd(inputds=mylib.MARKET_DATA_2_LR,cd=mylib.currentdata,rf=AMXL,outds=mylib.mc_amxl);\n",
    "%create_garch_1_1_wrd(inputds=mylib.MARKET_DATA_2_LR,cd=mylib.currentdata,rf=AAPL,outds=mylib.mc_aapl);\n",
    "%create_garch_1_1_wrd(inputds=mylib.MARKET_DATA_2_LR,cd=mylib.currentdata,rf=JPM,outds=mylib.mc_jpm);\n",
    "%create_garch_1_1_wrd(inputds=mylib.MARKET_DATA_2_LR,cd=mylib.currentdata,rf=USDMXN,outds=mylib.mc_USDMXN);"
   ]
  },
  {
   "cell_type": "markdown",
   "id": "413dd010-ebfd-4818-8e79-a299b6b73300",
   "metadata": {},
   "source": [
    "## 8. Estimate and simulate a Vasicek model..."
   ]
  },
  {
   "cell_type": "markdown",
   "id": "93a569f8-066d-43be-be07-34206715a3e3",
   "metadata": {},
   "source": [
    "for the market risk factors CETES and LIBOR interest rates completing the following code."
   ]
  },
  {
   "cell_type": "code",
   "execution_count": null,
   "id": "aaedba9b-9582-4f68-85f7-fc8ae7f82559",
   "metadata": {},
   "outputs": [],
   "source": [
    "* Estimation and simulation of a GARCH(1,1) model ;\n",
    "%create_vasicek_ir_wrd(inputds=mylib.MARKET_DATA_2,cd=mylib.currentdata,rf=CETES_1,outds=mylib.mc_CETES_1);\n",
    "%create_vasicek_ir_wrd(inputds=mylib.MARKET_DATA_2,cd=mylib.currentdata,rf=CETES_7,outds=mylib.mc_CETES_7);\n",
    "%create_vasicek_ir_wrd(inputds=mylib.MARKET_DATA_2,cd=mylib.currentdata,rf=CETES_14,outds=mylib.mc_CETES_14);\n",
    "%create_vasicek_ir_wrd(inputds=mylib.MARKET_DATA_2,cd=mylib.currentdata,rf=CETES_28,outds=mylib.mc_CETES_28);\n",
    "%create_vasicek_ir_wrd(inputds=mylib.MARKET_DATA_2,cd=mylib.currentdata,rf=CETES_91,outds=mylib.mc_CETES_91);\n",
    "%create_vasicek_ir_wrd(inputds=mylib.MARKET_DATA_2,cd=mylib.currentdata,rf=CETES_182,outds=mylib.mc_CETES_182);\n",
    "%create_vasicek_ir_wrd(inputds=mylib.MARKET_DATA_2,cd=mylib.currentdata,rf=CETES_364,outds=mylib.mc_CETES_364);\n",
    "%create_vasicek_ir_wrd(inputds=mylib.MARKET_DATA_2,cd=mylib.currentdata,rf=CETES_728,outds=mylib.mc_CETES_728);\n",
    "%create_vasicek_ir_wrd(inputds=mylib.MARKET_DATA_2,cd=mylib.currentdata,rf=CETES_1092,outds=mylib.mc_CETES_1092);\n",
    "%create_vasicek_ir_wrd(inputds=mylib.MARKET_DATA_2,cd=mylib.currentdata,rf=CETES_1456,outds=mylib.mc_CETES_1456);\n",
    "%create_vasicek_ir_wrd(inputds=mylib.MARKET_DATA_2,cd=mylib.currentdata,rf=CETES_1820,outds=mylib.mc_CETES_1820);\n",
    "%create_vasicek_ir_wrd(inputds=mylib.MARKET_DATA_2,cd=mylib.currentdata,rf=CETES_2180,outds=mylib.mc_CETES_2180);\n",
    "%create_vasicek_ir_wrd(inputds=mylib.MARKET_DATA_2,cd=mylib.currentdata,rf=CETES_2548,outds=mylib.mc_CETES_2548);\n",
    "%create_vasicek_ir_wrd(inputds=mylib.MARKET_DATA_2,cd=mylib.currentdata,rf=CETES_2912,outds=mylib.mc_CETES_2912);\n",
    "%create_vasicek_ir_wrd(inputds=mylib.MARKET_DATA_2,cd=mylib.currentdata,rf=CETES_3276,outds=mylib.mc_CETES_3276);\n",
    "%create_vasicek_ir_wrd(inputds=mylib.MARKET_DATA_2,cd=mylib.currentdata,rf=CETES_3640,outds=mylib.mc_CETES_3640);\n",
    "%create_vasicek_ir_wrd(inputds=mylib.MARKET_DATA_2,cd=mylib.currentdata,rf=CETES_4004,outds=mylib.mc_CETES_4004);\n",
    "%create_vasicek_ir_wrd(inputds=mylib.MARKET_DATA_2,cd=mylib.currentdata,rf=CETES_4368,outds=mylib.mc_CETES_4368);\n",
    "%create_vasicek_ir_wrd(inputds=mylib.MARKET_DATA_2,cd=mylib.currentdata,rf=CETES_4732,outds=mylib.mc_CETES_4732);\n",
    "%create_vasicek_ir_wrd(inputds=mylib.MARKET_DATA_2,cd=mylib.currentdata,rf=CETES_5096,outds=mylib.mc_CETES_5096);\n",
    "%create_vasicek_ir_wrd(inputds=mylib.MARKET_DATA_2,cd=mylib.currentdata,rf=CETES_5460,outds=mylib.mc_CETES_5460);\n",
    "%create_vasicek_ir_wrd(inputds=mylib.MARKET_DATA_2,cd=mylib.currentdata,rf=CETES_5824,outds=mylib.mc_CETES_5824);\n",
    "%create_vasicek_ir_wrd(inputds=mylib.MARKET_DATA_2,cd=mylib.currentdata,rf=CETES_6188,outds=mylib.mc_CETES_6188);\n",
    "%create_vasicek_ir_wrd(inputds=mylib.MARKET_DATA_2,cd=mylib.currentdata,rf=CETES_6552,outds=mylib.mc_CETES_6552);\n",
    "%create_vasicek_ir_wrd(inputds=mylib.MARKET_DATA_2,cd=mylib.currentdata,rf=CETES_6916,outds=mylib.mc_CETES_6916);\n",
    "%create_vasicek_ir_wrd(inputds=mylib.MARKET_DATA_2,cd=mylib.currentdata,rf=CETES_7280,outds=mylib.mc_CETES_7280);\n",
    "%create_vasicek_ir_wrd(inputds=mylib.MARKET_DATA_2,cd=mylib.currentdata,rf=CETES_7644,outds=mylib.mc_CETES_7644);\n",
    "%create_vasicek_ir_wrd(inputds=mylib.MARKET_DATA_2,cd=mylib.currentdata,rf=CETES_8008,outds=mylib.mc_CETES_8008);\n",
    "%create_vasicek_ir_wrd(inputds=mylib.MARKET_DATA_2,cd=mylib.currentdata,rf=CETES_8372,outds=mylib.mc_CETES_8372);\n",
    "%create_vasicek_ir_wrd(inputds=mylib.MARKET_DATA_2,cd=mylib.currentdata,rf=CETES_8736,outds=mylib.mc_CETES_8736);\n",
    "%create_vasicek_ir_wrd(inputds=mylib.MARKET_DATA_2,cd=mylib.currentdata,rf=CETES_9020,outds=mylib.mc_CETES_9020);\n",
    "%create_vasicek_ir_wrd(inputds=mylib.MARKET_DATA_2,cd=mylib.currentdata,rf=CETES_9464,outds=mylib.mc_CETES_9464);\n",
    "%create_vasicek_ir_wrd(inputds=mylib.MARKET_DATA_2,cd=mylib.currentdata,rf=CETES_9828,outds=mylib.mc_CETES_9828);\n",
    "%create_vasicek_ir_wrd(inputds=mylib.MARKET_DATA_2,cd=mylib.currentdata,rf=CETES_10192,outds=mylib.mc_CETES_10192);\n",
    "%create_vasicek_ir_wrd(inputds=mylib.MARKET_DATA_2,cd=mylib.currentdata,rf=CETES_10556,outds=mylib.mc_CETES_10556);\n",
    "%create_vasicek_ir_wrd(inputds=mylib.MARKET_DATA_2,cd=mylib.currentdata,rf=CETES_10800,outds=mylib.mc_CETES_10800);\n",
    "%create_vasicek_ir_wrd(inputds=mylib.MARKET_DATA_2,cd=mylib.currentdata,rf=CETES_10920,outds=mylib.mc_CETES_10920);\n",
    "%create_vasicek_ir_wrd(inputds=mylib.MARKET_DATA_2,cd=mylib.currentdata,rf=LIBOR_1,outds=mylib.mc_LIBOR_1);\n",
    "%create_vasicek_ir_wrd(inputds=mylib.MARKET_DATA_2,cd=mylib.currentdata,rf=LIBOR_7,outds=mylib.mc_LIBOR_7);\n",
    "%create_vasicek_ir_wrd(inputds=mylib.MARKET_DATA_2,cd=mylib.currentdata,rf=LIBOR_14,outds=mylib.mc_LIBOR_14);\n",
    "%create_vasicek_ir_wrd(inputds=mylib.MARKET_DATA_2,cd=mylib.currentdata,rf=LIBOR_28,outds=mylib.mc_LIBOR_28);\n",
    "%create_vasicek_ir_wrd(inputds=mylib.MARKET_DATA_2,cd=mylib.currentdata,rf=LIBOR_91,outds=mylib.mc_LIBOR_91);\n",
    "%create_vasicek_ir_wrd(inputds=mylib.MARKET_DATA_2,cd=mylib.currentdata,rf=LIBOR_182,outds=mylib.mc_LIBOR_182);\n",
    "%create_vasicek_ir_wrd(inputds=mylib.MARKET_DATA_2,cd=mylib.currentdata,rf=LIBOR_364,outds=mylib.mc_LIBOR_364);\n",
    "%create_vasicek_ir_wrd(inputds=mylib.MARKET_DATA_2,cd=mylib.currentdata,rf=LIBOR_728,outds=mylib.mc_LIBOR_728);\n",
    "%create_vasicek_ir_wrd(inputds=mylib.MARKET_DATA_2,cd=mylib.currentdata,rf=LIBOR_1092,outds=mylib.mc_LIBOR_1092);\n",
    "%create_vasicek_ir_wrd(inputds=mylib.MARKET_DATA_2,cd=mylib.currentdata,rf=LIBOR_1456,outds=mylib.mc_LIBOR_1456);\n",
    "%create_vasicek_ir_wrd(inputds=mylib.MARKET_DATA_2,cd=mylib.currentdata,rf=LIBOR_1820,outds=mylib.mc_LIBOR_1820);\n",
    "%create_vasicek_ir_wrd(inputds=mylib.MARKET_DATA_2,cd=mylib.currentdata,rf=LIBOR_2180,outds=mylib.mc_LIBOR_2180);\n",
    "%create_vasicek_ir_wrd(inputds=mylib.MARKET_DATA_2,cd=mylib.currentdata,rf=LIBOR_2548,outds=mylib.mc_LIBOR_2548);\n",
    "%create_vasicek_ir_wrd(inputds=mylib.MARKET_DATA_2,cd=mylib.currentdata,rf=LIBOR_2912,outds=mylib.mc_LIBOR_2912);\n",
    "%create_vasicek_ir_wrd(inputds=mylib.MARKET_DATA_2,cd=mylib.currentdata,rf=LIBOR_3276,outds=mylib.mc_LIBOR_3276);\n",
    "%create_vasicek_ir_wrd(inputds=mylib.MARKET_DATA_2,cd=mylib.currentdata,rf=LIBOR_3640,outds=mylib.mc_LIBOR_3640);\n",
    "%create_vasicek_ir_wrd(inputds=mylib.MARKET_DATA_2,cd=mylib.currentdata,rf=LIBOR_4004,outds=mylib.mc_LIBOR_4004);\n",
    "%create_vasicek_ir_wrd(inputds=mylib.MARKET_DATA_2,cd=mylib.currentdata,rf=LIBOR_4368,outds=mylib.mc_LIBOR_4368);\n",
    "%create_vasicek_ir_wrd(inputds=mylib.MARKET_DATA_2,cd=mylib.currentdata,rf=LIBOR_4732,outds=mylib.mc_LIBOR_4732);\n",
    "%create_vasicek_ir_wrd(inputds=mylib.MARKET_DATA_2,cd=mylib.currentdata,rf=LIBOR_5096,outds=mylib.mc_LIBOR_5096);\n",
    "%create_vasicek_ir_wrd(inputds=mylib.MARKET_DATA_2,cd=mylib.currentdata,rf=LIBOR_5460,outds=mylib.mc_LIBOR_5460);\n",
    "%create_vasicek_ir_wrd(inputds=mylib.MARKET_DATA_2,cd=mylib.currentdata,rf=LIBOR_5824,outds=mylib.mc_LIBOR_5824);\n",
    "%create_vasicek_ir_wrd(inputds=mylib.MARKET_DATA_2,cd=mylib.currentdata,rf=LIBOR_6188,outds=mylib.mc_LIBOR_6188);\n",
    "%create_vasicek_ir_wrd(inputds=mylib.MARKET_DATA_2,cd=mylib.currentdata,rf=LIBOR_6552,outds=mylib.mc_LIBOR_6552);\n",
    "%create_vasicek_ir_wrd(inputds=mylib.MARKET_DATA_2,cd=mylib.currentdata,rf=LIBOR_6916,outds=mylib.mc_LIBOR_6916);\n",
    "%create_vasicek_ir_wrd(inputds=mylib.MARKET_DATA_2,cd=mylib.currentdata,rf=LIBOR_7280,outds=mylib.mc_LIBOR_7280);\n",
    "%create_vasicek_ir_wrd(inputds=mylib.MARKET_DATA_2,cd=mylib.currentdata,rf=LIBOR_7644,outds=mylib.mc_LIBOR_7644);\n",
    "%create_vasicek_ir_wrd(inputds=mylib.MARKET_DATA_2,cd=mylib.currentdata,rf=LIBOR_8008,outds=mylib.mc_LIBOR_8008);\n",
    "%create_vasicek_ir_wrd(inputds=mylib.MARKET_DATA_2,cd=mylib.currentdata,rf=LIBOR_8372,outds=mylib.mc_LIBOR_8372);\n",
    "%create_vasicek_ir_wrd(inputds=mylib.MARKET_DATA_2,cd=mylib.currentdata,rf=LIBOR_8736,outds=mylib.mc_LIBOR_8736);\n",
    "%create_vasicek_ir_wrd(inputds=mylib.MARKET_DATA_2,cd=mylib.currentdata,rf=LIBOR_9020,outds=mylib.mc_LIBOR_9020);\n",
    "%create_vasicek_ir_wrd(inputds=mylib.MARKET_DATA_2,cd=mylib.currentdata,rf=LIBOR_9464,outds=mylib.mc_LIBOR_9464);\n",
    "%create_vasicek_ir_wrd(inputds=mylib.MARKET_DATA_2,cd=mylib.currentdata,rf=LIBOR_9828,outds=mylib.mc_LIBOR_9828);\n",
    "%create_vasicek_ir_wrd(inputds=mylib.MARKET_DATA_2,cd=mylib.currentdata,rf=LIBOR_10192,outds=mylib.mc_LIBOR_10192);\n",
    "%create_vasicek_ir_wrd(inputds=mylib.MARKET_DATA_2,cd=mylib.currentdata,rf=LIBOR_10556,outds=mylib.mc_LIBOR_10556);\n",
    "%create_vasicek_ir_wrd(inputds=mylib.MARKET_DATA_2,cd=mylib.currentdata,rf=LIBOR_10800,outds=mylib.mc_LIBOR_10800);\n",
    "%create_vasicek_ir_wrd(inputds=mylib.MARKET_DATA_2,cd=mylib.currentdata,rf=LIBOR_10920,outds=mylib.mc_LIBOR_10920);"
   ]
  },
  {
   "cell_type": "markdown",
   "id": "633bcb42-2340-4f90-9c68-0970c87ca257",
   "metadata": {},
   "source": [
    "## 9. Merge all the Monte Carlo simulations data sets to create a unique data set..."
   ]
  },
  {
   "cell_type": "markdown",
   "id": "d28a6eff-13d0-4933-8925-f4b0cfc137f9",
   "metadata": {},
   "source": [
    "with the Monte Carlo simulated states of your market risk factors. Ask the teacher for more instructions."
   ]
  },
  {
   "cell_type": "code",
   "execution_count": null,
   "id": "07cdbe3f-6339-433d-bd34-e26300c94114",
   "metadata": {},
   "outputs": [],
   "source": [
    "* Merging the data sets;\n",
    "data mylib.simstate_rf(drop=date);\n",
    "\tmerge mylib.mc_jpm(where=(date=\"21JUN2016\"d) drop=_type_ _mode_ _rep_ _errors_  RetJPM )\n",
    "\tmylib.mc_aapl(where=(date=\"21JUN2016\"d) drop=_type_ _mode_ _rep_ _errors_  RetAAPL )\n",
    "\tmylib.mc_usdmxn(where=(date=\"21JUN2016\"d) drop=_type_ _mode_ _rep_ _errors_  RetUSDMXN )\n",
    "\tmylib.mc_amxl(where=(date=\"21JUN2016\"d) drop=_type_ _mode_ _rep_ _errors_  RetAMXL )\n",
    "\t;\n",
    "run;\n",
    "\n",
    "data mylib.simstate_ir;\n",
    "\tmerge mylib.mc_cetes_:(drop=_type_ _mode_ _lag_ _rep_ _errors_ date)\n",
    "\tmylib.mc_libor_:(drop=_type_ _mode_ _lag_ _rep_ _errors_ date);\n",
    "run;\n",
    "\n",
    "data mylib.simstate_mc;\n",
    "\tmerge mylib.simstate_rf mylib.simstate_ir;\n",
    "run;"
   ]
  },
  {
   "cell_type": "markdown",
   "id": "e6ab2d12-2e68-49f4-997c-ebcb4745888f",
   "metadata": {},
   "source": [
    "## 10. Delete the useless data sets with the code:"
   ]
  },
  {
   "cell_type": "code",
   "execution_count": null,
   "id": "071f6b05-7064-44ae-b527-715adda81e12",
   "metadata": {},
   "outputs": [],
   "source": [
    "* Delete the useless data sets ;\n",
    "proc datasets lib=mylib nodetails nolist;\n",
    "\tdelete mc_:;\n",
    "quit;\n",
    "\n",
    "proc datasets lib=models nodetails nolist kill;\n",
    "quit;"
   ]
  },
  {
   "cell_type": "markdown",
   "id": "aa8d30d2-1ff6-4bf0-94e7-af377287dc36",
   "metadata": {},
   "source": [
    "## 11. Compute descriptive statistics and histograms for every market risk factor in mylib.simstate_mc..."
   ]
  },
  {
   "cell_type": "markdown",
   "id": "9f083c54-7a13-418a-88e8-7abaf0175dc7",
   "metadata": {},
   "source": [
    "with the SAS Task “Characterize Data” (Tasks > SAS Tasks > Standard > Prepare Data > Examine Data > Characterize Data)."
   ]
  },
  {
   "cell_type": "code",
   "execution_count": null,
   "id": "45825af6-4d95-4f81-a64c-de7c62c033d7",
   "metadata": {},
   "outputs": [],
   "source": [
    "ods noproctitle;\n",
    "\n",
    "/*** Analyze numeric variables ***/\n",
    "title \"Descriptive Statistics for Numeric Variables\";\n",
    "\n",
    "proc means data=MYLIB.SIMSTATE_MC n nmiss min mean median max std;\n",
    "\tvar AMXL AAPL JPM USDMXN CETES_1 CETES_7 CETES_14 CETES_28 CETES_91 CETES_182 \n",
    "\t\tCETES_364 CETES_728 CETES_1092 CETES_1456 CETES_1820 CETES_2180 CETES_2548 \n",
    "\t\tCETES_2912 CETES_3276 CETES_3640 CETES_4004 CETES_4368 CETES_4732 CETES_5096 \n",
    "\t\tCETES_5460 CETES_5824 CETES_6188 CETES_6552 CETES_6916 CETES_7280 CETES_7644 \n",
    "\t\tCETES_8008 CETES_8372 CETES_8736 CETES_9020 CETES_9464 CETES_9828 CETES_10192 \n",
    "\t\tCETES_10556 CETES_10800 CETES_10920 LIBOR_1 LIBOR_7 LIBOR_14 LIBOR_28 \n",
    "\t\tLIBOR_91 LIBOR_182 LIBOR_364 LIBOR_728 LIBOR_1092 LIBOR_1456 LIBOR_1820 \n",
    "\t\tLIBOR_2180 LIBOR_2548 LIBOR_2912 LIBOR_3276 LIBOR_3640 LIBOR_4004 LIBOR_4368 \n",
    "\t\tLIBOR_4732 LIBOR_5096 LIBOR_5460 LIBOR_5824 LIBOR_6188 LIBOR_6552 LIBOR_6916 \n",
    "\t\tLIBOR_7280 LIBOR_7644 LIBOR_8008 LIBOR_8372 LIBOR_8736 LIBOR_9020 LIBOR_9464 \n",
    "\t\tLIBOR_9828 LIBOR_10192 LIBOR_10556 LIBOR_10800 LIBOR_10920;\n",
    "run;\n",
    "\n",
    "title;\n",
    "\n",
    "proc univariate data=MYLIB.SIMSTATE_MC noprint;\n",
    "\thistogram AMXL AAPL JPM USDMXN CETES_1 CETES_7 CETES_14 CETES_28 CETES_91 \n",
    "\t\tCETES_182 CETES_364 CETES_728 CETES_1092 CETES_1456 CETES_1820 CETES_2180 \n",
    "\t\tCETES_2548 CETES_2912 CETES_3276 CETES_3640 CETES_4004 CETES_4368 CETES_4732 \n",
    "\t\tCETES_5096 CETES_5460 CETES_5824 CETES_6188 CETES_6552 CETES_6916 CETES_7280 \n",
    "\t\tCETES_7644 CETES_8008 CETES_8372 CETES_8736 CETES_9020 CETES_9464 CETES_9828 \n",
    "\t\tCETES_10192 CETES_10556 CETES_10800 CETES_10920 LIBOR_1 LIBOR_7 LIBOR_14 \n",
    "\t\tLIBOR_28 LIBOR_91 LIBOR_182 LIBOR_364 LIBOR_728 LIBOR_1092 LIBOR_1456 \n",
    "\t\tLIBOR_1820 LIBOR_2180 LIBOR_2548 LIBOR_2912 LIBOR_3276 LIBOR_3640 LIBOR_4004 \n",
    "\t\tLIBOR_4368 LIBOR_4732 LIBOR_5096 LIBOR_5460 LIBOR_5824 LIBOR_6188 LIBOR_6552 \n",
    "\t\tLIBOR_6916 LIBOR_7280 LIBOR_7644 LIBOR_8008 LIBOR_8372 LIBOR_8736 LIBOR_9020 \n",
    "\t\tLIBOR_9464 LIBOR_9828 LIBOR_10192 LIBOR_10556 LIBOR_10800 LIBOR_10920;\n",
    "run;"
   ]
  },
  {
   "cell_type": "markdown",
   "id": "76fccadb-a5b3-4997-924e-abc09ff26053",
   "metadata": {},
   "source": [
    "## 12. Export your data set mylib.simstate_mc to a CSV file (.csv)."
   ]
  },
  {
   "cell_type": "code",
   "execution_count": null,
   "id": "6a212427-4d94-4e05-aa9f-44fc0c0a589b",
   "metadata": {},
   "outputs": [],
   "source": [
    "proc export data=mylib.simstate_mc outfile=\"/export/viya/homes/perez-jose@lasallistas.org.mx/simstate_mc.csv\" dbms=CSV replace;\n",
    "run;"
   ]
  },
  {
   "cell_type": "markdown",
   "id": "4e497028-502e-4456-9a1c-3ff05c4cd858",
   "metadata": {},
   "source": [
    "# 📈 Exercise 6 | Market Risk Analysis"
   ]
  },
  {
   "cell_type": "markdown",
   "id": "54ea0b96-6ef5-4273-8d19-69e9de5d47b0",
   "metadata": {},
   "source": [
    "This exercise is based on the results of the exercise 4 and the exercise 5. The goals are:"
   ]
  },
  {
   "cell_type": "markdown",
   "id": "91bd425f-2723-408e-9038-ae441f56d71e",
   "metadata": {},
   "source": [
    "a) To calculate the market value of the portfolio on June 20th, 2016."
   ]
  },
  {
   "cell_type": "markdown",
   "id": "d3a7ce22-be7f-496f-8c4b-d05eb5a39a36",
   "metadata": {},
   "source": [
    "b) To compute the 1-day Value at Risk at 97.5% confidence level with the market states of the historical simulation and the Monte Carlo simulation."
   ]
  },
  {
   "cell_type": "markdown",
   "id": "3cf352d7-7f8d-472d-9dc7-3c54575d859c",
   "metadata": {},
   "source": [
    "c) To compute the Expected Shortfall associated to the previous VaR, with the market states of the historical simulation and the Monte Carlo simulation."
   ]
  },
  {
   "cell_type": "markdown",
   "id": "45594c3d-fb71-4f5a-9e7c-5ca19a183cc1",
   "metadata": {},
   "source": [
    "## 1. Open a SAS Viya for Learners session"
   ]
  },
  {
   "cell_type": "markdown",
   "id": "f60e9ed5-7813-4cb3-9ab2-0081632a8e5b",
   "metadata": {},
   "source": [
    "## 2. Import to SAS the file portfolio.xlsx..."
   ]
  },
  {
   "cell_type": "markdown",
   "id": "0ff3601f-11f5-467f-a7b3-66e5ea830931",
   "metadata": {},
   "source": [
    "using the SAS IMPORT procedure. Save your data set as MYLIB.portfolio"
   ]
  },
  {
   "cell_type": "code",
   "execution_count": null,
   "id": "e120333c-9293-4c01-9da0-4641b1844c84",
   "metadata": {},
   "outputs": [],
   "source": [
    "proc sql;\n",
    "%if %sysfunc(exist(MYLIB.portfolio)) %then %do;\n",
    "    drop table MYLIB.portfolio;\n",
    "%end;\n",
    "%if %sysfunc(exist(MYLIB.portfolio,VIEW)) %then %do;\n",
    "    drop view MYLIB.portfolio;\n",
    "%end;\n",
    "quit;\n",
    "\n",
    "FILENAME REFFILE DISK '/export/viya/homes/perez-jose@lasallistas.org.mx/FinancialRisks/Exercise_6/portfolio.xlsx';\n",
    "\n",
    "PROC IMPORT DATAFILE=REFFILE\n",
    "\tDBMS=XLSX\n",
    "\tOUT=MYLIB.portfolio;\n",
    "\tGETNAMES=YES;\n",
    "RUN;\n",
    "\n",
    "PROC CONTENTS DATA=MYLIB.portfolio; RUN;"
   ]
  },
  {
   "cell_type": "markdown",
   "id": "b70536fc-85bc-4f1a-a6ae-9a902ef9daaa",
   "metadata": {},
   "source": [
    "## 3. Create a code with the valuations functions."
   ]
  },
  {
   "cell_type": "code",
   "execution_count": null,
   "id": "153ccfe0-abf9-4f82-bf8e-2026e34328c9",
   "metadata": {},
   "outputs": [],
   "source": [
    "proc iml;\n",
    "\n",
    "\tstart Price(vector);\n",
    "\t/*\n",
    "\tPurpose: To price stocks and exchange rates\n",
    "\tvector: vector or matrix with the prices\t\n",
    "\t*/\n",
    "\t\tvalue=0;\n",
    "\t   \tvalue=vector;\n",
    "\t   \treturn(value);\n",
    "\tfinish;\n",
    "\t\n",
    "\tstart LinInterp(x, y, _t);\n",
    "\t/* \tLinear interpolation based on the values (x1,y1), (x2,y2),....\n",
    "\t   \tThe X  values must be nonmissing and in increasing order: x1 < x2 < ... < xn\n",
    "\t   \tThe values of the _t vector are linearly interpolated.\n",
    "\t\tThis function is based on https://blogs.sas.com/content/iml/2020/05/04/linear-interpolation-sas.html\n",
    "\t*/\n",
    "\t   d = dif(x, 1, 1);                     /* check that x[i+1] > x[i] */\n",
    "\t   if any(d<=0) then stop \"ERROR: x values must be nonmissing and strictly increasing.\";\n",
    "\t   idx = loc(_t>=min(x) && _t<=max(x));  /* check for valid scoring values */\n",
    "\t   if ncol(idx)=0 then stop \"ERROR: No values of t are inside the range of x.\";\n",
    "\t \n",
    "\t   p = j(nrow(_t)*ncol(_t), ncol(y), .);     /* allocate output (prediction) vector */\n",
    "\t\t*print p;\n",
    "\t   t = _t[idx];                        /* subset t values inside range(x) */\n",
    "\t   k = bin(t, x);                      /* find interval [x_i, x_{i+1}] that contains s */\n",
    "\t   xL = x[k];   yL = y[k,];             /* find (xL, yL) and (xR, yR) */\n",
    "\t   xR = x[k+1]; yR = y[k+1,];\n",
    "\t\t*print yL;\n",
    "\t\t*print yR;\n",
    "\t   f = (t - xL) / (xR - xL); \n",
    "\t\t*print f;          /* f = fraction of interval [xL, xR] */\n",
    "\t\t*print idx;\n",
    "\t   \tp[idx,] = (1 - f)#yL + f#yR;        /* interpolate between yL and yR */\n",
    "\t   return( p );\n",
    "\tfinish;\n",
    "\t\n",
    "\tstart ZeroCouponBond(date,mat_date,FV,curve,den);\n",
    "\t/*\n",
    "\tPurpose: To price zero coupon bonds\n",
    "\tdate: valuation date vector\n",
    "\tmat_date: maturity date vector\n",
    "\tFV: face value vector\n",
    "\tcurve: discount curve matrix, the first column must be the terms of the curve\n",
    "\t\t\tthe remaining columns are the rates\n",
    "\tden: denominator for the counting day convention\n",
    "\t*/\n",
    "\t\tvalue=0;\n",
    "\t\t* Time (days) to maturity;\n",
    "\t\tt = mat_date - date;\n",
    "\t\t*print t;\n",
    "\t\t* Interpolating to get the rate for time t;\n",
    "\t\tr = LinInterp(curve[,1], curve[,2:ncol(curve)],t);\n",
    "\t\t*print r;\n",
    "\t\t* Discount factor;\n",
    "\t\tdf=1/(1+r#t/den);\n",
    "\t\t*print df;\n",
    "\t\t* Present value of the face values;\n",
    "\t\tvalue=FV#df;\n",
    "\t\treturn(t(value));\t\n",
    "\tfinish;\n",
    "\t\n",
    "\t*Saving the functions;\n",
    "\tstore module=_all_;\n",
    "\n",
    "quit;\n"
   ]
  },
  {
   "cell_type": "markdown",
   "id": "3abed659-0b64-442e-ac15-460c1b3a8d35",
   "metadata": {},
   "source": [
    "## 4. Set the risk analysis parameters."
   ]
  },
  {
   "cell_type": "code",
   "execution_count": null,
   "id": "2336b49b-3d80-4e68-8b0a-ea4f7a8bc2d5",
   "metadata": {},
   "outputs": [],
   "source": [
    "* Base date;\n",
    "%let basedate=20JUN2016;\n",
    "* Horizon of the VaR;\n",
    "%let h=1;\n",
    "* Confidence of the VaR;\n",
    "* Loss are negatives, multiply by 100 \n",
    "* e.g. if you want 5% then enter 5;\n",
    "%let conf=2.5;\n",
    "* Percentile definition;\n",
    "%let perc_def=4;\n",
    "* Configuration of curves;\n",
    "%let nodes_CETES='CETES_1' 'CETES_7' 'CETES_14' 'CETES_28' 'CETES_91' 'CETES_182' 'CETES_364'\n",
    "'CETES_728' 'CETES_1092' 'CETES_1456' 'CETES_1820' 'CETES_2180' 'CETES_2548' 'CETES_2912'\n",
    " 'CETES_3276' 'CETES_3640' 'CETES_4004' 'CETES_4368' 'CETES_4732' 'CETES_5096' 'CETES_5460'\n",
    " 'CETES_5824' 'CETES_6188' 'CETES_6552' 'CETES_6916' 'CETES_7280' 'CETES_7644' 'CETES_8008'\n",
    " 'CETES_8372' 'CETES_8736' 'CETES_9020' 'CETES_9464' 'CETES_9828' 'CETES_10192' 'CETES_10556'\n",
    " 'CETES_10800' 'CETES_10920';\n",
    "%put &=nodes_CETES.;\n",
    "%let mat_CETES=1 7 14 28 91 182 364 728 1092 1456 1820 2180 2548 2912 3276 3640 4004 \n",
    "4368 4732 5096 5460 5824 6188 6552 6916 7280 7644 8008 8372 8736 9020 9464 9828 10192 10556 10800 10920;\n",
    "%put &=mat_CETES;"
   ]
  },
  {
   "cell_type": "markdown",
   "id": "42b777a6-4cc1-4f17-85d9-c5308c67905e",
   "metadata": {},
   "source": [
    "## 5. Market value and Simulation"
   ]
  },
  {
   "cell_type": "code",
   "execution_count": null,
   "id": "ee0f5068-6a96-4923-9375-36564a7202cf",
   "metadata": {},
   "outputs": [],
   "source": [
    "proc iml;\n",
    "\t*Load the functions;\n",
    "\tload module=_all_;\n",
    "\n",
    "\t* Import the columns of the portfolio data set to vectors;\n",
    "\tuse mylib.portfolio;\n",
    "\tread all var _ALL_; \n",
    "\tclose mylib.portfolio; \n",
    "\n",
    "\t* Configuration of the curves (nodes and names of the rates);\n",
    "\tnodes_CETES={ &nodes_CETES. };\n",
    "\tmat_CETES={&mat_CETES.};\n",
    "\t* Identify the characteristics of the financial instruments;\n",
    "\tidx_pr = loc(insttype=\"Stock\");\n",
    "\tidx_zcb = loc(insttype=\"ZeroCouponBond\");\n",
    "    NV=Par_LC[idx_zcb];\n",
    "\tmat_dt=MaturityDate[idx_zcb];\n",
    "\tcurves=discount_curve_id[idx_zcb];\n",
    "\n",
    "\t/************************/\n",
    "\t/* Current market value */\n",
    "\t/************************/\n",
    "\t* Import the currentdata data set to a matrix;\n",
    "\tuse mylib.currentdata;\n",
    "\tread all var _ALL_ into currentdata[colname=NumerNames]; \n",
    "\tclose mylib.currentdata; \n",
    "\t* Price function;\n",
    "\tvector=currentdata[,ref_price[idx_pr]];\n",
    "\tprice=Price(vector);\n",
    "\t* Exchange rates;\n",
    "\tvector=currentdata[,{'USDMXN'}];\n",
    "\tprice_fx=Price(vector);\n",
    "\t* Zero coupon bond;\t\n",
    "\t* Current curve;\n",
    "\tval_CETES=currentdata[,nodes_CETES];\n",
    "\tCETES=t(mat_CETES)||t(val_CETES);\n",
    "\tzcb = ZeroCouponBond(\"&basedate.\"d,mat_dt,NV,CETES,360);\n",
    "\t/******************************************************/\n",
    "\t/* Simulation of the market value in the time horizon */\n",
    "\t/******************************************************/\n",
    "\t* Import the simstate data set to a matrix;\n",
    "\tuse mylib.simstate_hs;\n",
    "\tread all var _ALL_ into simstate_s[colname=NumerNames]; \n",
    "\tclose mylib.simstate_s; \n",
    "\t* Price function;\n",
    "\tvector=simstate_s[,ref_price[idx_pr]];\n",
    "\tprice_s=Price(vector);\n",
    "\t* Exchange rates;\n",
    "\tvector=simstate_s[,{'USDMXN'}];\n",
    "\tprice_fx_s=Price(vector);\n",
    "\t*print price_fx_s;\n",
    "\t* Zero coupon bond;\t\n",
    "\t* Simulated curves in the time horizon;\n",
    "\tval_CETES_s=simstate_s[,nodes_CETES];\n",
    "\tCETES_s=t(mat_CETES)||t(val_CETES_s);\n",
    "\tzcb_s = ZeroCouponBond(\"&basedate.\"d+1,mat_dt,NV,CETES_s,360);\n",
    "\t/************************************/\n",
    "\t/* Saving the results to data sets  */\n",
    "\t/************************************/\n",
    "\t* Current market value;\n",
    "\tinstID_mkt_pr = repeat(instID[idx_pr],nrow(price));\n",
    "\tStateNumber_pr = repeat(0,nrow(instID_mkt_pr),ncol(instID_mkt_pr));\n",
    "\tReturnedValue_mkt_pr=shape(price,nrow(instID_mkt_pr),ncol(instID_mkt_pr));\n",
    "\tcreate mkt_pr var{instID_mkt_pr StateNumber_pr ReturnedValue_mkt_pr};\n",
    "\tappend;\n",
    "\tclose mkt_pr;\n",
    "\n",
    "\tinstID_mkt_zcb = repeat(instID[idx_zcb],nrow(zcb));\n",
    "\tStateNumber_zcb = repeat(0,nrow(instID_mkt_zcb),ncol(instID_mkt_zcb));\n",
    "\tReturnedValue_mkt_zcb=shape(zcb,nrow(instID_mkt_zcb),ncol(instID_mkt_zcb));\n",
    "\n",
    "\tcreate mkt_zcb var{instID_mkt_zcb StateNumber_zcb ReturnedValue_mkt_zcb};\n",
    "\tappend;\n",
    "\tclose mkt_zcb;\n",
    "\n",
    "\t* Simulations;\n",
    "\tinstID_ap_pr = repeat(instID[idx_pr],nrow(price_s));\n",
    "\tStateNumber_pr = shape(t(do(1,nrow(price_s),1))||t(do(1,nrow(price_s),1))||t(do(1,nrow(price_s),1))\n",
    "\t\t\t\t\t\t,nrow(instID_ap_pr),1);\n",
    "\tReturnedValue_pr=shape(price_s,nrow(instID_ap_pr),ncol(instID_ap_pr));\n",
    "\n",
    "\tcreate ap_pr var{instID_ap_pr StateNumber_pr ReturnedValue_pr};\n",
    "\tappend;\n",
    "\tclose ap_pr;\n",
    "\n",
    "\tinstID_ap_zcb = repeat(instID[idx_zcb],nrow(zcb_s));\n",
    "\tStateNumber_zcb = shape(t(do(1,nrow(zcb_s),1))||t(do(1,nrow(zcb_s),1))\n",
    "\t\t\t\t\t\t,nrow(instID_ap_zcb),1);\n",
    "\tReturnedValue_zcb=shape(zcb_s,nrow(instID_ap_zcb),ncol(instID_ap_zcb));\n",
    "\n",
    "\tcreate ap_zcb var{instID_ap_zcb StateNumber_zcb ReturnedValue_zcb};\n",
    "\tappend;\n",
    "\tclose ap_zcb;\n",
    "\n",
    "\t* Exchange rates;\n",
    "\tStateNumber_fx=do(0,nrow(price_fx_s),1);\n",
    "\t*print StateNumber_fx;\n",
    "\tReturnedValue_fx= price_fx // price_fx_s;\n",
    "\tinstID_fx=repeat({'USDMXN'},nrow(ReturnedValue_fx),1);\n",
    "\t*print instID_fx;\n",
    "\tcreate fx var{instID_fx StateNumber_fx ReturnedValue_fx};\n",
    "\tappend;\n",
    "\tclose fx;\n",
    "quit;"
   ]
  },
  {
   "cell_type": "markdown",
   "id": "8f6d80bf-b836-4998-a5a5-3fbf95ae8470",
   "metadata": {},
   "source": [
    "## 6. Change names of the columns to append the data sets."
   ]
  },
  {
   "cell_type": "code",
   "execution_count": null,
   "id": "75351787-ee6a-4d9a-9a44-c87744c05247",
   "metadata": {},
   "outputs": [],
   "source": [
    "proc datasets lib=work nodetails nolist;\n",
    "\tmodify ap_zcb;\n",
    "\trename\n",
    "\tinstID_ap_zcb=instID \n",
    "\tStateNumber_zcb=StateNumber \n",
    "\tReturnedValue_zcb=ReturnedValue;\n",
    "\tmodify ap_pr;\n",
    "\trename\n",
    "\tinstID_ap_pr=instID\n",
    " \tStateNumber_pr=StateNumber\n",
    "\tReturnedValue_pr=ReturnedValue;\n",
    "\tmodify mkt_pr;\n",
    "\trename\n",
    "\tinstID_mkt_pr=instID\n",
    " \tStateNumber_pr=StateNumber\n",
    "\tReturnedValue_mkt_pr=ReturnedValue;\n",
    "\tmodify mkt_zcb;\n",
    "\trename\n",
    "\tinstID_mkt_zcb=instID\n",
    " \tStateNumber_zcb=StateNumber\n",
    "\tReturnedValue_mkt_zcb=ReturnedValue;\n",
    "\tmodify fx;\n",
    "\trename\n",
    "\tinstID_fx=instID\n",
    " \tStateNumber_fx=StateNumber\n",
    "\tReturnedValue_fx=ReturnedValue;\n",
    "quit;"
   ]
  },
  {
   "cell_type": "markdown",
   "id": "6a17531f-4786-4e54-b9d3-52490341c2e2",
   "metadata": {},
   "source": [
    "## 7. Append the data sets."
   ]
  },
  {
   "cell_type": "code",
   "execution_count": null,
   "id": "4031ce2e-c983-4233-a883-331c6ce001b3",
   "metadata": {},
   "outputs": [],
   "source": [
    "proc append base= ap_zcb data=ap_pr force;\n",
    "run; \n",
    "proc append base= ap_zcb data=mkt_pr force;\n",
    "run; \n",
    "proc append base= ap_zcb data=mkt_zcb force;\n",
    "run;"
   ]
  },
  {
   "cell_type": "markdown",
   "id": "9800e9ee-ef00-4959-94f8-1c0bdd6d7ed2",
   "metadata": {},
   "source": [
    "## 8. Create the allprice data set."
   ]
  },
  {
   "cell_type": "code",
   "execution_count": null,
   "id": "f796169e-1561-49e0-b690-658d34382d2b",
   "metadata": {},
   "outputs": [],
   "source": [
    "proc sql;\n",
    "\tcreate table mylib.allprice as\n",
    "\t\tselect a.instid as InstID\n",
    "\t\t, a.statenumber as StateNumber\n",
    "\t\t, a.ReturnedValue as ReturnedValue format=nlnum16.2\n",
    "\t\t, case a.statenumber\n",
    "\t\t\twhen 0 then \"&basedate\"d \n",
    "\t\t\twhen a.statenumber > 0 then \"&basedate\"d+1 end as _date_ format = date9.\n",
    "\t\t, b.holding\n",
    "\t\t, b.ShortPosition\n",
    "\t\t, b.LocalCurrency as Currency\n",
    "\t\t, case b.ShortPosition\n",
    "\t\t\twhen 0 then a.ReturnedValue*b.holding\n",
    "\t\t\twhen 1 then -1*a.ReturnedValue*b.holding else 0 \n",
    "\t\t\tend as NativeValue format=nlnum16.2\n",
    "\t\t, case ReferenceCurrency\n",
    "\t\t\twhen 'USDMXN' then c.ReturnedValue\n",
    "\t\t\telse 1 end as FX_Rate format=nlnum16.2\n",
    "\t\t, (calculated NativeValue)*(calculated FX_Rate) as Value format=nlnum16.2\n",
    "\t\tfrom ap_zcb a inner join mylib.portfolio b \n",
    "\t\ton (a.instid=b.instid) inner join fx c \n",
    "\t\ton (a.statenumber=c.statenumber)\n",
    "\t\torder by a.statenumber, a.instid\n",
    "\t\t;\n",
    "quit;"
   ]
  },
  {
   "cell_type": "markdown",
   "id": "9a25c510-0f5b-402f-b338-e75e2be38f24",
   "metadata": {},
   "source": [
    "## 9. Compute the value of the portfolio for every simulated state"
   ]
  },
  {
   "cell_type": "code",
   "execution_count": null,
   "id": "47b74c79-f60b-4b12-b23d-a87407864b5f",
   "metadata": {},
   "outputs": [],
   "source": [
    "proc means data=mylib.allprice noprint;\n",
    "\tvar value;\n",
    "\tby statenumber;\n",
    "\toutput out=work.simvalue sum(value)=Value;\n",
    "run;"
   ]
  },
  {
   "cell_type": "markdown",
   "id": "bbc7d75c-3307-4fcd-bf67-b3c17d945f1f",
   "metadata": {},
   "source": [
    "## 10. Create the simvalue data set."
   ]
  },
  {
   "cell_type": "code",
   "execution_count": null,
   "id": "234cceb4-baec-42b9-8fef-2c68e6a611fa",
   "metadata": {},
   "outputs": [],
   "source": [
    "proc sql;\n",
    "\tcreate table mylib.simvalue as\n",
    "\tselect \n",
    "\ta.statenumber\n",
    "\t, a.Value\n",
    "\t, a.Value - b.Value as PL format=nlnum16.2\n",
    "\t, (calculated PL)/b.Value as PLPct format=percentn16.2\n",
    "\tfrom work.simvalue(where=(statenumber>0)) a, work.simvalue(where=(statenumber=0)) b\n",
    "\t;\n",
    "quit;"
   ]
  },
  {
   "cell_type": "markdown",
   "id": "1b950383-d91a-4769-a385-b498a136ae01",
   "metadata": {},
   "source": [
    "## 11. Calculate the VaR."
   ]
  },
  {
   "cell_type": "code",
   "execution_count": null,
   "id": "e629ff83-0d37-44cc-8ce9-d631e9ea09f4",
   "metadata": {},
   "outputs": [],
   "source": [
    "proc univariate data=mylib.simvalue noprint pctldef=&perc_def.;\n",
    "\tvar PL;\n",
    "\toutput out=work.simstat pctlpts=&conf. pctlpre=VaR_;\n",
    "run;"
   ]
  },
  {
   "cell_type": "markdown",
   "id": "d65f6ae6-d3d9-47b3-be3a-23b4bc6045bf",
   "metadata": {},
   "source": [
    "## 12. Create the simstat data set."
   ]
  },
  {
   "cell_type": "code",
   "execution_count": null,
   "id": "eec1d930-96f8-4742-95fc-a4d00c3e7a05",
   "metadata": {},
   "outputs": [],
   "source": [
    "proc sql noprint;\n",
    "\tselect * into: VaR  \n",
    "\tfrom work.simstat;\n",
    "\tcreate table work.simstat2 as\n",
    "\t\tselect \n",
    "\t\t&VaR. as VaR format=nlnum16.2\n",
    "\t\t, mean(b.PL) as ES format=nlnum16.2\n",
    "\t\tfrom mylib.simvalue b\t\t\n",
    "\t\twhere b.PL< &VaR.\n",
    "\t\t; \n",
    "\tselect ES format=16.2 into: ES  \n",
    "\tfrom work.simstat2;\n",
    "\tcreate table mylib.simstat as\n",
    "\t\tselect \n",
    "\t\t\"&basedate.\"d as BaseDate format=date9.\n",
    "\t\t, a.value as MtM format=nlnum16.2\n",
    "\t\t, &conf./100 as ConfidenceLevel\n",
    "\t\t, b.VaR\n",
    "\t\t, b.VaR/a.value as VaRPct format=percentn16.2\n",
    "\t\t, b.ES\n",
    "\t\tfrom work.simvalue a, work.simstat2 b\n",
    "\t\twhere statenumber=0\n",
    "\t\t;\n",
    "quit;"
   ]
  },
  {
   "cell_type": "markdown",
   "id": "d395803c-6807-4ad8-b5f9-368a75fd9654",
   "metadata": {},
   "source": [
    "## 13. Results"
   ]
  },
  {
   "cell_type": "code",
   "execution_count": null,
   "id": "1a7da474-11e2-4a61-912b-21fa0f9a5a5e",
   "metadata": {},
   "outputs": [],
   "source": [
    "title \"Simulation Statistics\";\n",
    "proc print data=mylib.simstat;\n",
    "run;\n",
    "\n",
    "ods graphics / reset width=6.4in height=6in imagemap noborder;\n",
    "title 'Profit & losses distribution';\n",
    "proc sgplot data=mylib.simvalue;\n",
    " \thistogram PL / fillattrs=(color=blue transparency=0.75);\n",
    " \trefline &VaR. / axis=x lineattrs=(color=red pattern=15) label = (\"VaR &VaR.\");\n",
    " \trefline &ES. / axis=x lineattrs=(color=orange pattern=15) label = (\"ES &ES.\");\n",
    "\txaxis grid;\n",
    "\tyaxis grid;\n",
    "run;"
   ]
  },
  {
   "cell_type": "code",
   "execution_count": null,
   "id": "e8dbe532-9681-443f-9753-d585b2d1ebe2",
   "metadata": {},
   "outputs": [],
   "source": []
  }
 ],
 "metadata": {
  "kernelspec": {
   "display_name": "SAS",
   "language": "sas",
   "name": "sas"
  },
  "language_info": {
   "codemirror_mode": "sas",
   "file_extension": ".sas",
   "mimetype": "text/x-sas",
   "name": "sas"
  }
 },
 "nbformat": 4,
 "nbformat_minor": 5
}
