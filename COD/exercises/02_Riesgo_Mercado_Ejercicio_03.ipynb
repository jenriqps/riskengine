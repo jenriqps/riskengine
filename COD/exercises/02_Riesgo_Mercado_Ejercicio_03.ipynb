{
 "cells": [
  {
   "cell_type": "markdown",
   "id": "01d502c1-e4af-4647-846c-44329874507a",
   "metadata": {},
   "source": [
    "# Exercise 3 | Market Risk"
   ]
  },
  {
   "cell_type": "markdown",
   "id": "9495d02b-ac7f-4977-8ae3-738547d26e3a",
   "metadata": {},
   "source": [
    "Actuarial Science Undergratuate Program | Facultad de Negocios | Universidad La Salle México | Financial Risks Class | José Enrique Pérez Salvador"
   ]
  },
  {
   "cell_type": "markdown",
   "id": "443f8f10-7d4a-4adf-b6b3-8bc30a7f568c",
   "metadata": {},
   "source": [
    "Based on the context of Exercise 2, you want to estimate the annual volatility of JPMORGAN CHASE & CO.'s stock listed on the NYSE (ticker JPM). You will consider the price series from August 16, 2017 to September 3rd, 2024, and the calendar of business days in Mexico.\n",
    "Let $ S_t $, $ t=0,1,...,n $ the JPM stock price, let $ X_1,...,X_n $ its daily logreturns series computed as $ X_t = \\ln⁡(S_t/S_{t-1})$, $ t=1,...,n $. Our goal is to model $ X_t $.\n"
   ]
  },
  {
   "cell_type": "markdown",
   "id": "6da0508c-acbd-45ee-9098-69e70ba907fb",
   "metadata": {},
   "source": [
    "## Import"
   ]
  },
  {
   "cell_type": "code",
   "execution_count": null,
   "id": "a9425461-0877-445f-a804-45daf00505e0",
   "metadata": {},
   "outputs": [],
   "source": [
    "proc sql;\n",
    "%if %sysfunc(exist(WORK.'transform'n)) %then %do;\n",
    "    drop table WORK.'transform'n;\n",
    "%end;\n",
    "%if %sysfunc(exist(WORK.'transform'n,VIEW)) %then %do;\n",
    "    drop view WORK.'transform'n;\n",
    "%end;\n",
    "quit;\n",
    "\n",
    "FILENAME REFFILE DISK '';\n",
    "\n",
    "\n",
    "PROC IMPORT DATAFILE=REFFILE\n",
    "\tDBMS=XLSX\n",
    "\tOUT=WORK.'transform'n;\n",
    "\tGETNAMES=YES;\n",
    "RUN;\n",
    "\n",
    "PROC CONTENTS DATA=WORK.'transform'n; RUN;\n"
   ]
  },
  {
   "cell_type": "markdown",
   "id": "742bd449-388b-47e4-890a-00d5eea8b483",
   "metadata": {},
   "source": [
    " ## Exploration"
   ]
  },
  {
   "cell_type": "code",
   "execution_count": null,
   "id": "4cb0ba13-16f3-4354-8ba7-c701e6165c84",
   "metadata": {},
   "outputs": [],
   "source": [
    "ods graphics / imagemap=on;\n",
    "\n",
    "proc sort data=WORK.TRANSFORM(keep=date RetJPM) out=Work.preProcessedData;\n",
    "\tby date;\n",
    "run;\n",
    "\n",
    "proc timeseries data=Work.preProcessedData seasonality=7 plots=(series \n",
    "\t\thistogram corr);\n",
    "\tid date interval=Day;\n",
    "\tvar  / accumulate=none transform=none;\n",
    "run;\n",
    "\n",
    "proc delete data=Work.preProcessedData;\n",
    "run;"
   ]
  },
  {
   "cell_type": "markdown",
   "id": "663acb68-1deb-4621-8efd-1c25bde02fcd",
   "metadata": {},
   "source": [
    "## Model"
   ]
  },
  {
   "cell_type": "code",
   "execution_count": null,
   "id": "9dc206ec-b95b-4b0d-8b28-f9dbad173901",
   "metadata": {},
   "outputs": [],
   "source": [
    "ods output FitSummary=FIT_SUMMARY ParameterEstimates = PARAMETER_ESTIMATES ;\n",
    "proc autoreg data=(keep=date RetJPM) maxit=200 optimizer=nlp;\n",
    "\t\"ARCH(p=1)\": model RetJPM=/ garch=(q=) noint;\n",
    "\toutput out=results_arch1 cev=v;\n",
    "\t\"ARCH(p=2)\": model RetJPM=/ garch=(q=) noint;\n",
    "\toutput out=results_arch2 cev=v;\n",
    "\t\"GARCH(p=1,q=1)\": model RetJPM=/ garch=(q=,p=) noint;\n",
    "\toutput out=results_garch_1_1 cev=v;\n",
    "\t\"GARCH(p=1,q=2)\": model RetJPM=/ garch=(q=,p=) noint;\n",
    "\toutput out=results_garch_1_2 cev=v;\n",
    "\t\"GARCH(p=2,q=1)\": model RetJPM=/ garch=(q=,p=) noint;\n",
    "\toutput out=results_garch_2_1 cev=v;\n",
    "\t\"GARCH(p=2,q=2)\": model RetJPM=/ garch=(q=,p=) noint;\n",
    "\toutput out=results_garch_2_2 cev=v;\n",
    "run;"
   ]
  },
  {
   "cell_type": "markdown",
   "id": "692bb168-0a99-40e8-b58d-650142127cc5",
   "metadata": {},
   "source": [
    "## Selection the best model based on the AICC"
   ]
  },
  {
   "cell_type": "code",
   "execution_count": null,
   "id": "bfb336fb-04f6-4834-8f17-ced609a76b8f",
   "metadata": {},
   "outputs": [],
   "source": [
    "proc sql;\n",
    "\tselect model, label2, nvalue2\n",
    "\tfrom FIT_SUMMARY\n",
    "\twhere label2 = \"AICC\"\n",
    "\thaving min(nvalue2)=nvalue2\n",
    "\t;\n",
    "quit;"
   ]
  },
  {
   "cell_type": "markdown",
   "id": "10892e38-d222-4a0b-9754-0a6798c10992",
   "metadata": {},
   "source": [
    "Get the estimated volatility with the champion model"
   ]
  },
  {
   "cell_type": "code",
   "execution_count": null,
   "id": "35071aff-7bcb-4e20-8ef6-d4ae07576c96",
   "metadata": {},
   "outputs": [],
   "source": [
    "proc sql;\n",
    "\tcreate table work.var_cond as\n",
    "\tselect a.date\n",
    "\t, a.v as variance label=\"Conditional variance with GARCH(1,1)\"\n",
    "\t, (252*a.v)**0.5 as vol label=\"Annual volatility\"\n",
    "\tfrom work.results_garch_1_1 a \n",
    "\t;\n",
    "quit;"
   ]
  },
  {
   "cell_type": "markdown",
   "id": "bd53dd1c-1f78-480c-bd78-6dcbfa3b12d5",
   "metadata": {},
   "source": [
    "Plot the estimated volatilities"
   ]
  },
  {
   "cell_type": "code",
   "execution_count": null,
   "id": "687ebd99-9241-48e6-a4ab-b25bcccaea09",
   "metadata": {},
   "outputs": [],
   "source": [
    "ods graphics / reset width=6.4in height=4.8in imagemap noborder;\n",
    "\n",
    "proc sort data=work.var_cond out=_SeriesPlotTaskData;\n",
    "\tby date;\n",
    "run;\n",
    "\n",
    "proc sgplot data=_SeriesPlotTaskData;\n",
    "\ttitle height=14pt \"Volatilidad\";\n",
    "\tseries x=date y=vol /;\n",
    "\txaxis grid;\n",
    "\tyaxis grid;\n",
    "run;\n",
    "\n",
    "ods graphics / reset;\n",
    "title;\n",
    "\n",
    "proc datasets library=WORK noprint;\n",
    "\tdelete _SeriesPlotTaskData;\n",
    "run;"
   ]
  },
  {
   "cell_type": "code",
   "execution_count": null,
   "id": "dc08656b-bf43-42a4-9d6c-539e49d0a8c7",
   "metadata": {},
   "outputs": [],
   "source": []
  }
 ],
 "metadata": {
  "kernelspec": {
   "display_name": "SAS",
   "language": "sas",
   "name": "sas"
  },
  "language_info": {
   "codemirror_mode": "sas",
   "file_extension": ".sas",
   "mimetype": "text/x-sas",
   "name": "sas"
  }
 },
 "nbformat": 4,
 "nbformat_minor": 5
}
